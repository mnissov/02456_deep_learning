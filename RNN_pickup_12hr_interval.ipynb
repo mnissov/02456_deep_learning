{
 "cells": [
  {
   "cell_type": "code",
   "execution_count": 4,
   "metadata": {},
   "outputs": [],
   "source": [
    "%matplotlib inline\n",
    "import numpy as np\n",
    "import pandas as pd\n",
    "import matplotlib.pyplot as plt\n",
    "import folium\n",
    "import os\n",
    "import datetime\n",
    "from sklearn.model_selection import train_test_split"
   ]
  },
  {
   "cell_type": "code",
   "execution_count": 5,
   "metadata": {},
   "outputs": [
    {
     "name": "stdout",
     "output_type": "stream",
     "text": [
      "(100, 2, 788) (100, 1, 788)\n",
      "(709, 2, 100) (709, 1, 100)\n"
     ]
    }
   ],
   "source": [
    "data = pd.read_pickle('DR_Data/pickup_series_12h.pickle')\n",
    "pickups = np.array(data.Hubs)\n",
    "\n",
    "num_zones = pickups[0].shape[0]\n",
    "seq_length = 2\n",
    "num_intervals = pickups.shape[0]-2\n",
    "validation_size = 0.1\n",
    "\n",
    "X = np.zeros((num_zones, seq_length, num_intervals))\n",
    "y = np.zeros((num_zones, 1, num_intervals))\n",
    "for i in range(num_intervals):\n",
    "    X[:,:,i] = np.array([pickups[i], pickups[i+1]]).T\n",
    "    y[:,:,i] = np.array([pickups[i+2]]).T\n",
    "    \n",
    "print(X.shape,y.shape)\n",
    "X_train, X_valid, y_train, y_valid = train_test_split(X.T, y.T, test_size=validation_size, random_state=1)\n",
    "print(X_train.shape, y_train.shape)"
   ]
  },
  {
   "cell_type": "code",
   "execution_count": 1,
   "metadata": {},
   "outputs": [],
   "source": [
    "# Load functions\n",
    "import torch\n",
    "from torch.autograd import Variable\n",
    "import torch.nn as nn\n",
    "import torch.optim as optim\n",
    "from torch.nn import Linear, GRU, Conv2d, Dropout, Dropout2d, MaxPool2d, BatchNorm1d, BatchNorm2d\n",
    "from torch.nn.functional import relu, elu, relu6, sigmoid, tanh, softmax"
   ]
  },
  {
   "cell_type": "code",
   "execution_count": 2,
   "metadata": {},
   "outputs": [
    {
     "name": "stdout",
     "output_type": "stream",
     "text": [
      "Running GPU.\n"
     ]
    }
   ],
   "source": [
    "use_cuda = torch.cuda.is_available()\n",
    "print(\"Running GPU.\") if use_cuda else print(\"No GPU available.\")\n",
    "\n",
    "\n",
    "def get_variable(x):\n",
    "    \"\"\" Converts tensors to cuda, if available. \"\"\"\n",
    "    if use_cuda:\n",
    "        return x.cuda()\n",
    "    return x\n",
    "\n",
    "\n",
    "def get_numpy(x):\n",
    "    \"\"\" Get numpy array for both cuda and not. \"\"\"\n",
    "    if use_cuda:\n",
    "        return x.cpu().data.numpy()\n",
    "    return x.data.numpy()"
   ]
  },
  {
   "cell_type": "code",
   "execution_count": null,
   "metadata": {},
   "outputs": [],
   "source": [
    "inputs = get_variable(torch.Tensor(X_valid[0]))\n"
   ]
  },
  {
   "cell_type": "code",
   "execution_count": 5,
   "metadata": {},
   "outputs": [
    {
     "name": "stdout",
     "output_type": "stream",
     "text": [
      "Net(\n",
      "  (drop): Dropout(p=0.5, inplace=False)\n",
      "  (bn0): BatchNorm1d(2, eps=1e-05, momentum=0.1, affine=True, track_running_stats=True)\n",
      "  (rnn_1): LSTM(100, 16, num_layers=2, dropout=0.5)\n",
      "  (l_out): Linear(in_features=32, out_features=100, bias=False)\n",
      ")\n"
     ]
    }
   ],
   "source": [
    "rnn_seq_length = seq_length\n",
    "rnn_input_size = num_zones\n",
    "rnn_hidden_size = 16\n",
    "rnn_direction = 0\n",
    "rnn_layers = 2\n",
    "\n",
    "rnn_out_features = rnn_seq_length*rnn_hidden_size*(rnn_direction+1)\n",
    "features_cat_size = rnn_out_features\n",
    "\n",
    "class Net(nn.Module):\n",
    "    def __init__(self):\n",
    "        super(Net, self).__init__()        \n",
    "        self.drop = Dropout(p=0.5)\n",
    "        self.bn0 = BatchNorm1d(rnn_seq_length)\n",
    "        \n",
    "        self.rnn_1 = nn.LSTM(input_size=rnn_input_size,\n",
    "                            hidden_size=rnn_hidden_size,\n",
    "                            num_layers=rnn_layers,\n",
    "                            bidirectional=(rnn_direction>0),\n",
    "                            dropout=0.5)\n",
    "        \n",
    "        self.l_out = Linear(in_features=features_cat_size,\n",
    "                            out_features=num_zones,\n",
    "                            bias=False)\n",
    "        \n",
    "    def forward(self, x):\n",
    "        features = []\n",
    "        out = {}\n",
    "        #x = self.bn0(x)\n",
    "        \n",
    "        features_rnn = x.view(rnn_seq_length, -1, rnn_input_size)\n",
    "        features_rnn,_ = self.rnn_1(features_rnn)\n",
    "        # features_rnn = self.drop(features_rnn)\n",
    "        \n",
    "        features_rnn = features_rnn.view(-1, rnn_out_features) #self.rnn_1.hidden_size)\n",
    "        \n",
    "        # Append features to the list \"features\"\n",
    "        features.append(features_rnn)\n",
    "        \n",
    "        ## Output layer where all features are in use ##\n",
    "        features_final = torch.cat(features, dim=1)\n",
    "        \n",
    "        #features_final = self.drop(features_final)\n",
    "        out['out'] = self.l_out(features_final)\n",
    "        return out['out']\n",
    "\n",
    "net = Net()\n",
    "if use_cuda:\n",
    "    net.cuda()\n",
    "print(net)"
   ]
  },
  {
   "cell_type": "code",
   "execution_count": 6,
   "metadata": {},
   "outputs": [
    {
     "name": "stdout",
     "output_type": "stream",
     "text": [
      "Epoch 0 \t train loss: 2.5096293365 \t valid loss: 2.5113006078\n",
      "Epoch 5 \t train loss: 1.8836227031 \t valid loss: 1.8770124861\n",
      "Epoch 10 \t train loss: 1.7508433704 \t valid loss: 1.7660012087\n",
      "Epoch 15 \t train loss: 1.5871240199 \t valid loss: 1.6712986687\n",
      "Epoch 20 \t train loss: 1.5270672473 \t valid loss: 1.6682321905\n",
      "Epoch 25 \t train loss: 1.4741789439 \t valid loss: 1.6452297302\n",
      "Epoch 30 \t train loss: 1.4369547816 \t valid loss: 1.6592616488\n",
      "Epoch 35 \t train loss: 1.4100924695 \t valid loss: 1.6251161433\n",
      "Epoch 40 \t train loss: 1.3604766694 \t valid loss: 1.6356543970\n",
      "Epoch 45 \t train loss: 1.3462419833 \t valid loss: 1.6513800811\n",
      "Epoch 50 \t train loss: 1.3162967301 \t valid loss: 1.5885428575\n",
      "Epoch 55 \t train loss: 1.3108068341 \t valid loss: 1.5535442527\n",
      "Epoch 60 \t train loss: 1.2904903266 \t valid loss: 1.5934825251\n",
      "Epoch 65 \t train loss: 1.3066787093 \t valid loss: 1.5572038544\n",
      "Epoch 70 \t train loss: 1.2852715769 \t valid loss: 1.5473545217\n",
      "Epoch 75 \t train loss: 1.2663862802 \t valid loss: 1.5473665045\n",
      "Epoch 80 \t train loss: 1.2974328204 \t valid loss: 1.5343597875\n",
      "Epoch 85 \t train loss: 1.2581081079 \t valid loss: 1.5202844009\n",
      "Epoch 90 \t train loss: 1.2550969066 \t valid loss: 1.5733962116\n",
      "Epoch 95 \t train loss: 1.2671521019 \t valid loss: 1.5434103451\n"
     ]
    },
    {
     "data": {
      "image/png": "[encoded data removed]",
      "text/plain": [
       "<Figure size 432x288 with 1 Axes>"
      ]
     },
     "metadata": {
      "needs_background": "light"
     },
     "output_type": "display_data"
    }
   ],
   "source": [
    "# Hyper-parameters\n",
    "num_epochs = 100\n",
    "\n",
    "# Initialize a new network\n",
    "net = Net()\n",
    "\n",
    "# Define a loss function and optimizer\n",
    "criterion = torch.nn.MSELoss(size_average=None, reduce=None, reduction='mean')\n",
    "optimizer = optim.SGD(net.parameters(), lr=0.01,momentum=0.2, weight_decay=1e-3)\n",
    "\n",
    "def accuracy(ys, ts):\n",
    "    predictions = torch.round(ys)\n",
    "    correct_prediction = torch.eq(torch.round(outputs),targets)\n",
    "    return torch.mean(correct_prediction.float())\n",
    "\n",
    "# Track loss\n",
    "train_iter = []\n",
    "train_loss, train_accs = [], []\n",
    "valid_iter = []\n",
    "valid_loss, valid_accs = [], []\n",
    "\n",
    "# For each epoch\n",
    "for i in range(num_epochs):\n",
    "    \n",
    "    # Track loss\n",
    "    epoch_training_loss = 0\n",
    "    epoch_training_accs = 0\n",
    "    epoch_validation_loss = 0\n",
    "    epoch_validation_accs = 0\n",
    "    \n",
    "    net.eval()\n",
    "    for j in range(len(X_valid)):\n",
    "        inputs = torch.Tensor(X_valid[j])\n",
    "        targets = torch.Tensor(y_valid[j])\n",
    "        # Forward pass\n",
    "        outputs = net.forward(inputs)\n",
    "        # Compute loss\n",
    "        loss = criterion(outputs,targets)\n",
    "        # Update loss\n",
    "        epoch_validation_loss += loss.detach().numpy()\n",
    "        epoch_validation_accs += accuracy(outputs, targets)\n",
    "    \n",
    "    net.train()\n",
    "    for j in range(len(X_train)):\n",
    "        inputs = torch.Tensor(X_train[j])\n",
    "        targets = torch.Tensor(y_train[j])\n",
    "        outputs = net.forward(inputs)\n",
    "        # Compute loss\n",
    "        loss = criterion(outputs,targets)\n",
    "        # Backward pass\n",
    "        optimizer.zero_grad()\n",
    "        loss.backward()\n",
    "        optimizer.step()\n",
    "        # Update loss\n",
    "        epoch_training_loss += loss.detach().numpy()\n",
    "        epoch_training_accs += accuracy(outputs, targets)\n",
    "        \n",
    "    # Save loss for plot\n",
    "    train_loss.append(epoch_training_loss/len(X_train))\n",
    "    train_accs.append(epoch_training_accs/len(X_train))\n",
    "    valid_loss.append(epoch_validation_loss/len(X_valid))\n",
    "    valid_accs.append(epoch_training_accs/len(X_valid))\n",
    "\n",
    "    # Print loss every 5 epochs\n",
    "    if i % 5 == 0:\n",
    "        print(f'Epoch {i} \\t train loss: {train_loss[-1]:.10f} \\t valid loss: {valid_loss[-1]:.10f}')\n",
    "\n",
    "\n",
    "# Plot training and validation loss\n",
    "epoch = np.arange(len(train_loss))\n",
    "plt.figure()\n",
    "plt.plot(epoch, train_loss, 'r', label='Training loss',)\n",
    "plt.plot(epoch, valid_loss, 'b', label='Validation loss')\n",
    "plt.legend()\n",
    "plt.xlabel('Epoch'), plt.ylabel('NLL')\n",
    "plt.show()"
   ]
  },
  {
   "cell_type": "code",
   "execution_count": 10,
   "metadata": {},
   "outputs": [
    {
     "name": "stdout",
     "output_type": "stream",
     "text": [
      "torch.Size([1, 100]) torch.Size([1, 100])\n",
      "(1419, 2, 100)\n"
     ]
    }
   ],
   "source": [
    "print(outputs.shape, targets.shape)\n",
    "print(X_train.shape)"
   ]
  }
 ],
 "metadata": {
  "kernelspec": {
   "display_name": "Python 3",
   "language": "python",
   "name": "python3"
  },
  "language_info": {
   "codemirror_mode": {
    "name": "ipython",
    "version": 3
   },
   "file_extension": ".py",
   "mimetype": "text/x-python",
   "name": "python",
   "nbconvert_exporter": "python",
   "pygments_lexer": "ipython3",
   "version": "3.6.5"
  }
 },
 "nbformat": 4,
 "nbformat_minor": 2
}
