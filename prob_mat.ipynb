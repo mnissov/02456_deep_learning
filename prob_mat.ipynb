{
 "cells": [
  {
   "cell_type": "code",
   "execution_count": 43,
   "metadata": {},
   "outputs": [],
   "source": [
    "import numpy as np"
   ]
  },
  {
   "cell_type": "code",
   "execution_count": 44,
   "metadata": {},
   "outputs": [],
   "source": [
    "data = pd.read_pickle('DR_Data/rentals.pickle')\n",
    "\n",
    "def probability_matrix( data ):\n",
    "    x = np.array(data.pickup_zone)\n",
    "    y = np.array(data.dropoff_zone)\n",
    "    \n",
    "    num_zones = max(x)+1\n",
    "    count_mat = np.zeros((num_zones,num_zones), dtype=np.uint)\n",
    "    for i in range(len(x)):\n",
    "        idx = x[i]\n",
    "        idy = y[i]\n",
    "        count_mat[idx, idy] += 1\n",
    "    norm_factor = np.sum(count_mat,axis=1)\n",
    "    norm_factor = norm_factor + (norm_factor==0)\n",
    "    \n",
    "    prob_mat = count_mat.T/norm_factor\n",
    "    return prob_mat.T\n",
    "\n",
    "prob_mat = probability_matrix(data)"
   ]
  },
  {
   "cell_type": "code",
   "execution_count": 48,
   "metadata": {},
   "outputs": [
    {
     "name": "stdout",
     "output_type": "stream",
     "text": [
      "shape (100, 100)\n",
      "sum across rows [1. 1. 1. 1. 1. 1. 1. 1. 1. 1. 1. 1. 1. 1. 1. 1. 1. 1. 1. 1. 1. 1. 1. 1.\n",
      " 1. 1. 1. 1. 1. 1. 1. 1. 1. 1. 1. 1. 1. 1. 1. 1. 1. 1. 1. 1. 1. 1. 1. 1.\n",
      " 1. 1. 1. 1. 1. 1. 1. 1. 1. 1. 1. 1. 1. 1. 1. 1. 1. 1. 1. 1. 1. 1. 1. 1.\n",
      " 1. 1. 1. 1. 1. 1. 1. 1. 1. 1. 1. 1. 1. 1. 1. 1. 1. 1. 1. 1. 1. 1. 1. 1.\n",
      " 1. 1. 1. 1.]\n",
      "avg of diagonal elements 0.3879393679143448\n",
      "max of each row 0.39565897233551994\n"
     ]
    }
   ],
   "source": [
    "print('shape', prob_mat.shape)\n",
    "print('sum across rows', np.sum(prob_mat,axis=1))\n",
    "print('avg of diagonal elements', np.mean(np.diag(prob_mat)))\n",
    "print('max of each row', np.mean(np.max(prob_mat, axis=1)))"
   ]
  }
 ],
 "metadata": {
  "kernelspec": {
   "display_name": "Python 3",
   "language": "python",
   "name": "python3"
  },
  "language_info": {
   "codemirror_mode": {
    "name": "ipython",
    "version": 3
   },
   "file_extension": ".py",
   "mimetype": "text/x-python",
   "name": "python",
   "nbconvert_exporter": "python",
   "pygments_lexer": "ipython3",
   "version": "3.6.8"
  }
 },
 "nbformat": 4,
 "nbformat_minor": 2
}
