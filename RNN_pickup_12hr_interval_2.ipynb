{
 "cells": [
  {
   "cell_type": "code",
   "execution_count": 1,
   "metadata": {},
   "outputs": [],
   "source": [
    "%matplotlib inline\n",
    "import numpy as np\n",
    "import pandas as pd\n",
    "import matplotlib.pyplot as plt\n",
    "import folium\n",
    "import os\n",
    "import datetime\n",
    "from sklearn.model_selection import train_test_split"
   ]
  },
  {
   "cell_type": "code",
   "execution_count": 44,
   "metadata": {},
   "outputs": [
    {
     "name": "stdout",
     "output_type": "stream",
     "text": [
      "(100, 5, 747) (100, 1, 747)\n",
      "(597, 5, 100) (597, 1, 100)\n"
     ]
    }
   ],
   "source": [
    "data = pd.read_pickle('DR_Data/pickup_series.pickle')\n",
    "pickups = np.array(data.Hubs)\n",
    "\n",
    "num_zones = pickups[0].shape[0]\n",
    "seq_length = 5\n",
    "num_intervals = pickups.shape[0]-seq_length\n",
    "\n",
    "X = np.zeros((num_zones, seq_length, num_intervals))\n",
    "y = np.zeros((num_zones, 1, num_intervals))\n",
    "for i in range(num_intervals):\n",
    "    X[:,:,i] = np.array(list(pickups[i:i+seq_length])).T\n",
    "    y[:,:,i] = np.array([pickups[i+seq_length]]).T\n",
    "    \n",
    "print(X.shape,y.shape)\n",
    "X_train, X_valid, y_train, y_valid = train_test_split(X.transpose(), y.transpose(), test_size=0.2, random_state=1)\n",
    "print(X_train.shape, y_train.shape)"
   ]
  },
  {
   "cell_type": "code",
   "execution_count": 43,
   "metadata": {},
   "outputs": [
    {
     "data": {
      "text/plain": [
       "array([[0, 1, 1, 0, 7, 0, 0, 0, 1, 1, 3, 0, 0, 3, 0, 4, 1, 0, 0, 0, 3, 5,\n",
       "        3, 3, 1, 8, 2, 0, 1, 8, 1, 4, 0, 0, 2, 4, 0, 2, 1, 2, 1, 0, 7, 0,\n",
       "        1, 1, 0, 4, 8, 0, 1, 4, 7, 6, 0, 5, 0, 9, 0, 2, 2, 5, 3, 0, 1, 2,\n",
       "        1, 2, 1, 3, 2, 9, 3, 1, 2, 0, 1, 5, 2, 0, 4, 1, 2, 0, 1, 0, 4, 0,\n",
       "        0, 0, 1, 2, 1, 1, 0, 0, 0, 0, 4, 0],\n",
       "       [0, 1, 0, 0, 1, 0, 0, 2, 0, 0, 2, 2, 2, 1, 0, 0, 0, 0, 0, 0, 0, 1,\n",
       "        1, 1, 0, 0, 3, 0, 0, 1, 1, 5, 0, 0, 3, 0, 0, 0, 0, 0, 0, 2, 4, 0,\n",
       "        0, 0, 3, 1, 1, 0, 0, 2, 2, 1, 3, 0, 0, 3, 0, 4, 0, 0, 1, 0, 1, 0,\n",
       "        0, 0, 1, 0, 0, 0, 0, 1, 0, 1, 0, 3, 0, 0, 0, 1, 1, 3, 0, 0, 1, 0,\n",
       "        0, 0, 0, 0, 0, 1, 0, 0, 0, 0, 1, 0],\n",
       "       [0, 0, 0, 0, 0, 0, 0, 0, 0, 0, 0, 0, 0, 0, 0, 0, 0, 0, 0, 2, 0, 0,\n",
       "        0, 0, 0, 0, 0, 0, 0, 1, 0, 0, 0, 0, 0, 0, 0, 0, 0, 0, 0, 0, 1, 0,\n",
       "        0, 0, 0, 0, 1, 0, 0, 0, 0, 0, 1, 0, 0, 1, 0, 0, 0, 0, 0, 0, 0, 0,\n",
       "        0, 0, 0, 0, 0, 0, 0, 0, 0, 0, 0, 0, 0, 0, 0, 0, 0, 0, 0, 0, 0, 0,\n",
       "        0, 0, 0, 0, 0, 0, 0, 0, 0, 0, 0, 0]])"
      ]
     },
     "execution_count": 43,
     "metadata": {},
     "output_type": "execute_result"
    }
   ],
   "source": [
    "np.array(list(pickups[i:i+4]))"
   ]
  },
  {
   "cell_type": "code",
   "execution_count": 45,
   "metadata": {},
   "outputs": [],
   "source": [
    "# Load functions\n",
    "import torch\n",
    "from torch.autograd import Variable\n",
    "import torch.nn as nn\n",
    "import torch.optim as optim\n",
    "from torch.nn import Linear, GRU, Conv2d, Dropout, Dropout2d, MaxPool2d, BatchNorm1d, BatchNorm2d\n",
    "from torch.nn.functional import relu, elu, relu6, sigmoid, tanh, softmax"
   ]
  },
  {
   "cell_type": "code",
   "execution_count": 46,
   "metadata": {},
   "outputs": [
    {
     "name": "stdout",
     "output_type": "stream",
     "text": [
      "Running GPU.\n"
     ]
    }
   ],
   "source": [
    "use_cuda = torch.cuda.is_available()\n",
    "print(\"Running GPU.\") if use_cuda else print(\"No GPU available.\")\n",
    "\n",
    "\n",
    "def get_variable(x):\n",
    "    \"\"\" Converts tensors to cuda, if available. \"\"\"\n",
    "    if use_cuda:\n",
    "        return x.cuda()\n",
    "    return x\n",
    "\n",
    "\n",
    "def get_numpy(x):\n",
    "    \"\"\" Get numpy array for both cuda and not. \"\"\"\n",
    "    if use_cuda:\n",
    "        return x.cpu().data.numpy()\n",
    "    return x.data.numpy()"
   ]
  },
  {
   "cell_type": "code",
   "execution_count": 48,
   "metadata": {},
   "outputs": [
    {
     "name": "stdout",
     "output_type": "stream",
     "text": [
      "Net(\n",
      "  (bn0): BatchNorm1d(5, eps=1e-05, momentum=0.1, affine=True, track_running_stats=True)\n",
      "  (rnn_1): LSTM(100, 16)\n",
      "  (l_out): Linear(in_features=80, out_features=100, bias=True)\n",
      ")\n"
     ]
    }
   ],
   "source": [
    "rnn_seq_length = seq_length\n",
    "rnn_input_size = num_zones\n",
    "rnn_hidden_size = 16\n",
    "rnn_direction = 0\n",
    "\n",
    "rnn_out_features = rnn_seq_length*rnn_hidden_size*(rnn_direction+1)\n",
    "features_cat_size = rnn_out_features\n",
    "\n",
    "class Net(nn.Module):\n",
    "    def __init__(self):\n",
    "        super(Net, self).__init__()        \n",
    "        #self.drop = Dropout(p=0.5)\n",
    "        self.bn0 = BatchNorm1d(rnn_seq_length)\n",
    "        \n",
    "        self.rnn_1 = nn.LSTM(input_size=rnn_input_size,\n",
    "                            hidden_size=rnn_hidden_size,\n",
    "                            num_layers=1,\n",
    "                            bidirectional=(rnn_direction>0))\n",
    "        \n",
    "        self.l_out = Linear(in_features=features_cat_size,\n",
    "                            out_features=num_zones,\n",
    "                            bias=True)\n",
    "        \n",
    "    def forward(self, x):\n",
    "        features = []\n",
    "        out = {}\n",
    "        #x = self.bn0(x)\n",
    "        \n",
    "        features_rnn = x.view(rnn_seq_length, -1, rnn_input_size)\n",
    "        features_rnn,_ = self.rnn_1(features_rnn)\n",
    "        #features_rnn = self.drop(features_rnn)\n",
    "        \n",
    "        features_rnn = features_rnn.view(-1, rnn_out_features) #self.rnn_1.hidden_size)\n",
    "        \n",
    "        # Append features to the list \"features\"\n",
    "        features.append(features_rnn)\n",
    "        \n",
    "        ## Output layer where all features are in use ##\n",
    "        features_final = torch.cat(features, dim=1)\n",
    "        \n",
    "        #features_final = self.drop(features_final)\n",
    "        out['out'] = self.l_out(features_final)\n",
    "        '''\n",
    "        x, (h,c) = self.rnn_1(x)\n",
    "        #x = x.view(-1,self.rnn_1.rnn_hidden_size)\n",
    "        x = self.l_out(x)\n",
    "        return x\n",
    "        '''\n",
    "        return out['out']\n",
    "\n",
    "net = Net()\n",
    "if use_cuda:\n",
    "    net.cuda()\n",
    "print(net)"
   ]
  },
  {
   "cell_type": "code",
   "execution_count": 49,
   "metadata": {},
   "outputs": [
    {
     "name": "stdout",
     "output_type": "stream",
     "text": [
      "Epoch 0 \t train loss: 3.8872683991 \t valid loss: 6.7065844283 \t valid acc:\n",
      "Epoch 5 \t train loss: 2.7386061070 \t valid loss: 2.7907040340 \t valid acc:\n",
      "Epoch 10 \t train loss: 2.5177262255 \t valid loss: 2.6464500976 \t valid acc:\n",
      "Epoch 15 \t train loss: 2.3977439795 \t valid loss: 2.6016844212 \t valid acc:\n",
      "Epoch 20 \t train loss: 2.2876042260 \t valid loss: 2.5647543453 \t valid acc:\n",
      "Epoch 25 \t train loss: 2.2218581033 \t valid loss: 2.5646363291 \t valid acc:\n",
      "Epoch 30 \t train loss: 2.1664861027 \t valid loss: 2.5402702835 \t valid acc:\n",
      "Epoch 35 \t train loss: 2.1226005728 \t valid loss: 2.5552382951 \t valid acc:\n",
      "Epoch 40 \t train loss: 2.0852767645 \t valid loss: 2.5658786193 \t valid acc:\n",
      "Epoch 45 \t train loss: 2.0403005029 \t valid loss: 2.5838104749 \t valid acc:\n",
      "Epoch 50 \t train loss: 2.0055307616 \t valid loss: 2.6091631295 \t valid acc:\n",
      "Epoch 55 \t train loss: 1.9847819753 \t valid loss: 2.6059884890 \t valid acc:\n",
      "Epoch 60 \t train loss: 1.9885751366 \t valid loss: 2.6339356445 \t valid acc:\n",
      "Epoch 65 \t train loss: 1.9298160147 \t valid loss: 2.6792166972 \t valid acc:\n",
      "Epoch 70 \t train loss: 1.8888972411 \t valid loss: 2.6859329519 \t valid acc:\n",
      "Epoch 75 \t train loss: 1.8655844242 \t valid loss: 2.6873815403 \t valid acc:\n",
      "Epoch 80 \t train loss: 1.8383209096 \t valid loss: 2.7093511691 \t valid acc:\n",
      "Epoch 85 \t train loss: 1.8215389235 \t valid loss: 2.7057882741 \t valid acc:\n",
      "Epoch 90 \t train loss: 1.8129533498 \t valid loss: 2.7270900652 \t valid acc:\n",
      "Epoch 95 \t train loss: 1.7938583857 \t valid loss: 2.7295728184 \t valid acc:\n"
     ]
    },
    {
     "data": {
      "image/png": "[encoded data removed]",
      "text/plain": [
       "<Figure size 432x288 with 1 Axes>"
      ]
     },
     "metadata": {
      "needs_background": "light"
     },
     "output_type": "display_data"
    }
   ],
   "source": [
    "# Hyper-parameters\n",
    "num_epochs = 100\n",
    "\n",
    "# Initialize a new network\n",
    "net = Net()\n",
    "\n",
    "# Define a loss function and optimizer for this problem\n",
    "# YOUR CODE HERE!\n",
    "criterion = torch.nn.MSELoss(size_average=None, reduce=None, reduction='mean')\n",
    "optimizer = optim.SGD(net.parameters(), lr=0.01,momentum=0.2, weight_decay=1e-3)\n",
    "\n",
    "def accuracy(ys, ts):\n",
    "    predictions = torch.round(ys)\n",
    "    correct_prediction = torch.eq(torch.round(outputs),targets)\n",
    "    return torch.mean(correct_prediction.float())\n",
    "\n",
    "# Track loss\n",
    "train_iter = []\n",
    "train_loss, train_accs = [], []\n",
    "valid_iter = []\n",
    "valid_loss, valid_accs = [], []\n",
    "\n",
    "# For each epoch\n",
    "for i in range(num_epochs):\n",
    "    \n",
    "    # Track loss\n",
    "    epoch_training_loss = 0\n",
    "    epoch_training_acc = 0\n",
    "    epoch_validation_loss = 0\n",
    "    \n",
    "    net.eval()\n",
    "    for j in range(len(X_valid)):\n",
    "        inputs = torch.Tensor(X_valid[j])\n",
    "        targets = torch.Tensor(y_valid[j])\n",
    "        # Forward pass\n",
    "        outputs = net.forward(inputs)\n",
    "        # Compute loss\n",
    "        loss = criterion(outputs,targets)\n",
    "        # Update loss\n",
    "        epoch_validation_loss += loss.detach().numpy()\n",
    "    \n",
    "    net.train()\n",
    "    for j in range(len(X_train)):\n",
    "        inputs = torch.Tensor(X_train[j])\n",
    "        targets = torch.Tensor(y_train[j])\n",
    "        outputs = net.forward(inputs)\n",
    "        # Compute loss\n",
    "        loss = criterion(outputs,targets)\n",
    "        # Backward pass\n",
    "        optimizer.zero_grad()\n",
    "        loss.backward()\n",
    "        optimizer.step()\n",
    "        # Update loss\n",
    "        epoch_training_loss += loss.detach().numpy()\n",
    "        \n",
    "    # Save loss for plot\n",
    "    train_loss.append(epoch_training_loss/len(X_train))\n",
    "    valid_loss.append(epoch_validation_loss/len(X_valid))\n",
    "\n",
    "    # Print loss every 5 epochs\n",
    "    if i % 5 == 0:\n",
    "        print(f'Epoch {i} \\t train loss: {train_loss[-1]:.10f} \\t valid loss: {valid_loss[-1]:.10f} \\t valid acc:')\n",
    "\n",
    "\n",
    "\n",
    "# Plot training and validation loss\n",
    "epoch = np.arange(len(train_loss))\n",
    "plt.figure()\n",
    "plt.plot(epoch, train_loss, 'r', label='Training loss',)\n",
    "plt.plot(epoch, valid_loss, 'b', label='Validation loss')\n",
    "plt.legend()\n",
    "plt.xlabel('Epoch'), plt.ylabel('NLL')\n",
    "plt.show()"
   ]
  },
  {
   "cell_type": "code",
   "execution_count": 50,
   "metadata": {},
   "outputs": [
    {
     "data": {
      "text/plain": [
       "tensor([[-8.4927e-02,  4.8047e-01,  1.0543e+00, -4.6603e-02,  2.9607e+00,\n",
       "         -6.9327e-02, -2.0507e-02,  1.5457e-01, -3.0723e-01,  2.3066e-01,\n",
       "          1.8279e-01,  1.9489e-01,  2.1139e-01,  6.1008e-02,  3.6674e-01,\n",
       "          1.7034e+00,  2.6675e-01,  1.5536e-04,  9.1020e-02,  2.8562e-01,\n",
       "          5.7715e-01,  6.4000e-02,  5.9982e-01, -3.2295e-01,  3.0422e-01,\n",
       "          1.3716e+00,  9.6128e-01, -1.4311e-02, -2.5662e-01,  3.5696e-01,\n",
       "          8.0740e-01, -1.9933e-01,  2.5804e-01,  3.1504e-01,  3.4176e-01,\n",
       "          2.4478e-01,  3.1560e-01,  4.0748e-01, -1.6629e-01,  3.1888e-02,\n",
       "          1.1665e-01,  2.2227e-01,  2.6124e+00,  3.3540e-01,  2.6063e-01,\n",
       "          7.2059e-02,  5.8955e-01,  1.1118e+00,  1.3634e+00,  7.4465e-02,\n",
       "          2.1837e-01,  6.7471e-01,  3.7679e+00,  1.4366e+00,  6.3748e-01,\n",
       "         -1.8719e-01,  1.9663e-01, -8.1424e-03,  3.4253e-01,  1.1199e+00,\n",
       "         -1.1796e-01, -7.6176e-02,  1.8923e-01,  3.6756e-02,  6.3886e-01,\n",
       "          3.3710e-02, -3.1798e-02,  7.6649e-02,  1.7002e-02,  4.3252e-01,\n",
       "         -8.6423e-02,  4.4999e-01,  5.1091e-01,  1.8022e-01,  2.5100e-01,\n",
       "          3.7031e-01, -9.0276e-02,  1.9510e+00,  8.9466e-01,  4.9569e-01,\n",
       "          3.1789e-01,  5.2866e-01,  6.3624e-01, -1.4324e-02,  5.6962e-02,\n",
       "          3.1284e-01,  1.4968e-01,  1.6961e-01, -4.6887e-02,  4.7592e-01,\n",
       "          1.2432e-01,  8.3630e-01,  1.5771e-01,  3.3119e-01,  4.9615e-02,\n",
       "         -1.2040e-01,  4.4020e-01,  3.7645e-01,  1.2432e+00,  2.7335e-02]],\n",
       "       grad_fn=<AddmmBackward>)"
      ]
     },
     "execution_count": 50,
     "metadata": {},
     "output_type": "execute_result"
    }
   ],
   "source": [
    "outputs"
   ]
  },
  {
   "cell_type": "code",
   "execution_count": 51,
   "metadata": {},
   "outputs": [
    {
     "data": {
      "text/plain": [
       "tensor([[ 0.,  0.,  0.,  0.,  4.,  0.,  0.,  0.,  0.,  0.,  0.,  0.,  0.,  0.,\n",
       "          1., 10.,  0.,  0.,  0.,  0.,  2.,  2.,  0.,  0.,  2.,  1.,  2.,  0.,\n",
       "          0.,  0.,  0.,  0.,  0.,  0.,  0.,  2.,  0.,  0.,  0.,  0.,  0.,  0.,\n",
       "          1.,  0.,  0.,  0.,  0.,  0.,  0.,  0.,  0.,  0.,  8.,  2.,  0.,  2.,\n",
       "          0.,  0.,  0.,  1.,  0.,  0.,  0.,  0.,  3.,  0.,  0.,  0.,  0.,  0.,\n",
       "          0.,  0.,  0.,  0.,  0.,  0.,  0.,  5.,  0.,  0.,  0.,  0.,  0.,  0.,\n",
       "          0.,  0.,  0.,  0.,  0.,  0.,  0.,  0.,  0.,  0.,  0.,  0.,  0.,  5.,\n",
       "          4.,  0.]])"
      ]
     },
     "execution_count": 51,
     "metadata": {},
     "output_type": "execute_result"
    }
   ],
   "source": [
    "targets"
   ]
  },
  {
   "cell_type": "code",
   "execution_count": 52,
   "metadata": {},
   "outputs": [
    {
     "data": {
      "text/plain": [
       "tensor([[-8.4927e-02,  4.8047e-01,  1.0543e+00, -4.6603e-02, -1.0393e+00,\n",
       "         -6.9327e-02, -2.0507e-02,  1.5457e-01, -3.0723e-01,  2.3066e-01,\n",
       "          1.8279e-01,  1.9489e-01,  2.1139e-01,  6.1008e-02, -6.3326e-01,\n",
       "         -8.2966e+00,  2.6675e-01,  1.5536e-04,  9.1020e-02,  2.8562e-01,\n",
       "         -1.4229e+00, -1.9360e+00,  5.9982e-01, -3.2295e-01, -1.6958e+00,\n",
       "          3.7160e-01, -1.0387e+00, -1.4311e-02, -2.5662e-01,  3.5696e-01,\n",
       "          8.0740e-01, -1.9933e-01,  2.5804e-01,  3.1504e-01,  3.4176e-01,\n",
       "         -1.7552e+00,  3.1560e-01,  4.0748e-01, -1.6629e-01,  3.1888e-02,\n",
       "          1.1665e-01,  2.2227e-01,  1.6124e+00,  3.3540e-01,  2.6063e-01,\n",
       "          7.2059e-02,  5.8955e-01,  1.1118e+00,  1.3634e+00,  7.4465e-02,\n",
       "          2.1837e-01,  6.7471e-01, -4.2321e+00, -5.6343e-01,  6.3748e-01,\n",
       "         -2.1872e+00,  1.9663e-01, -8.1424e-03,  3.4253e-01,  1.1989e-01,\n",
       "         -1.1796e-01, -7.6176e-02,  1.8923e-01,  3.6756e-02, -2.3611e+00,\n",
       "          3.3710e-02, -3.1798e-02,  7.6649e-02,  1.7002e-02,  4.3252e-01,\n",
       "         -8.6423e-02,  4.4999e-01,  5.1091e-01,  1.8022e-01,  2.5100e-01,\n",
       "          3.7031e-01, -9.0276e-02, -3.0490e+00,  8.9466e-01,  4.9569e-01,\n",
       "          3.1789e-01,  5.2866e-01,  6.3624e-01, -1.4324e-02,  5.6962e-02,\n",
       "          3.1284e-01,  1.4968e-01,  1.6961e-01, -4.6887e-02,  4.7592e-01,\n",
       "          1.2432e-01,  8.3630e-01,  1.5771e-01,  3.3119e-01,  4.9615e-02,\n",
       "         -1.2040e-01,  4.4020e-01, -4.6236e+00, -2.7568e+00,  2.7335e-02]],\n",
       "       grad_fn=<SubBackward0>)"
      ]
     },
     "execution_count": 52,
     "metadata": {},
     "output_type": "execute_result"
    }
   ],
   "source": [
    "outputs-targets"
   ]
  },
  {
   "cell_type": "code",
   "execution_count": null,
   "metadata": {},
   "outputs": [],
   "source": []
  }
 ],
 "metadata": {
  "kernelspec": {
   "display_name": "Python 3",
   "language": "python",
   "name": "python3"
  },
  "language_info": {
   "codemirror_mode": {
    "name": "ipython",
    "version": 3
   },
   "file_extension": ".py",
   "mimetype": "text/x-python",
   "name": "python",
   "nbconvert_exporter": "python",
   "pygments_lexer": "ipython3",
   "version": "3.6.5"
  }
 },
 "nbformat": 4,
 "nbformat_minor": 2
}
