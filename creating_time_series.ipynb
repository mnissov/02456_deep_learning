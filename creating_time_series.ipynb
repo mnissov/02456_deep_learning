{
 "cells": [
  {
   "cell_type": "code",
   "execution_count": 127,
   "metadata": {},
   "outputs": [],
   "source": [
    "\n",
    "from random import randint\n",
    "import numpy as np\n",
    "import pandas as pd\n",
    "import matplotlib.pyplot as plt\n",
    "import datetime\n",
    "\n",
    "frequency = '6H'   #period of data segmentation in time (hours)\n",
    "number_zones = 100 #it is automatically changed if reduce = True\n",
    "reduce = False  #reduce 100 zones to the 10 zones with max activity"
   ]
  },
  {
   "cell_type": "code",
   "execution_count": 130,
   "metadata": {},
   "outputs": [
    {
     "name": "stdout",
     "output_type": "stream",
     "text": [
      "[52 15 48 25 42 53  4 77 47 30]\n"
     ]
    }
   ],
   "source": [
    "\n",
    "data = pd.read_pickle('DR_Data/rentals_inner_cph.pickle')\n",
    "data = data.sort_values('created_at')\n",
    "#print(data.shape)\n",
    "start = data.created_at.iloc[0].floor('H') - datetime.timedelta(hours=10)\n",
    "end = data.created_at.iloc[-1].ceil('H') -  datetime.timedelta(hours=1)\n",
    "#print(start,end)\n",
    "index = pd.date_range(start=start,end=end,freq= frequency)\n",
    "data.created_at = data.created_at.dt.floor(frequency)\n",
    "\n",
    "\n",
    "\n",
    "    \n",
    "    \n",
    "    \n",
    "data = data.groupby(['created_at','pickup_zone']).count()\n",
    "data['Count'] = data['finished_at']\n",
    "data = data[['Count']].reset_index(1)\n",
    "print(data.groupby(['pickup_zone']).sum().sort_values('Count',ascending=False).index[:10].values)\n",
    "x = [randint(0, 99) for p in range(0, 10)]\n",
    "\n",
    "if reduce:\n",
    "    number_zones = 10\n",
    "    zones_with_max_pickups = data.groupby(['pickup_zone']).sum().sort_values('Count',ascending=False).index[:10].values\n",
    "    data = data[data.pickup_zone.isin(zones_with_max_pickups)]\n",
    "    values_to_replace = dict(zip(zones_with_max_pickups,range(100,100+number_zones)))\n",
    "    data = data.replace({\"pickup_zone\": values_to_replace}) \n",
    "    data.pickup_zone = data.pickup_zone - 100\n",
    "\n",
    "#print(data.groupby(['pickup_zone']).sum())\n",
    "\n",
    "\n",
    "\n",
    "\n"
   ]
  },
  {
   "cell_type": "code",
   "execution_count": 131,
   "metadata": {},
   "outputs": [
    {
     "name": "stdout",
     "output_type": "stream",
     "text": [
      "                                               Hubs  weekday_sin  weekday_cos  \\\n",
      "index                                                                           \n",
      "2018-03-04 00:00:00  [0, 0, 0, 0, 0, 0, 0, 0, 0, 0]      -0.7818       0.6235   \n",
      "2018-03-04 06:00:00  [0, 0, 0, 0, 0, 0, 0, 0, 0, 0]      -0.7818       0.6235   \n",
      "2018-03-04 12:00:00  [0, 0, 0, 0, 0, 0, 0, 3, 0, 0]      -0.7818       0.6235   \n",
      "2018-03-04 18:00:00  [0, 0, 0, 0, 0, 0, 0, 0, 0, 0]      -0.7818       0.6235   \n",
      "2018-03-05 00:00:00  [0, 0, 0, 0, 0, 0, 0, 0, 0, 0]       0.0000       1.0000   \n",
      "...                                             ...          ...          ...   \n",
      "2019-04-01 12:00:00  [3, 1, 6, 0, 9, 1, 0, 4, 0, 0]       0.0000       1.0000   \n",
      "2019-04-01 18:00:00  [0, 0, 1, 0, 0, 0, 0, 0, 0, 0]       0.0000       1.0000   \n",
      "2019-04-02 00:00:00  [0, 0, 1, 0, 1, 0, 0, 0, 0, 0]       0.7818       0.6235   \n",
      "2019-04-02 06:00:00  [1, 0, 3, 0, 2, 0, 0, 1, 0, 0]       0.7818       0.6235   \n",
      "2019-04-02 12:00:00  [0, 0, 1, 0, 1, 0, 0, 0, 0, 2]       0.7818       0.6235   \n",
      "\n",
      "                     month_sin  month_cos  hour_sin  hour_cos  \n",
      "index                                                          \n",
      "2018-03-04 00:00:00      1.000        0.0       0.0       1.0  \n",
      "2018-03-04 06:00:00      1.000        0.0       1.0       0.0  \n",
      "2018-03-04 12:00:00      1.000        0.0       0.0      -1.0  \n",
      "2018-03-04 18:00:00      1.000        0.0      -1.0      -0.0  \n",
      "2018-03-05 00:00:00      1.000        0.0       0.0       1.0  \n",
      "...                        ...        ...       ...       ...  \n",
      "2019-04-01 12:00:00      0.866       -0.5       0.0      -1.0  \n",
      "2019-04-01 18:00:00      0.866       -0.5      -1.0      -0.0  \n",
      "2019-04-02 00:00:00      0.866       -0.5       0.0       1.0  \n",
      "2019-04-02 06:00:00      0.866       -0.5       1.0       0.0  \n",
      "2019-04-02 12:00:00      0.866       -0.5       0.0      -1.0  \n",
      "\n",
      "[1579 rows x 7 columns]\n"
     ]
    }
   ],
   "source": [
    "def cycle_encoder(data, col, max_val,name):\n",
    "    data[name + '_sin'] = np.round(np.sin(2 * np.pi * col/max_val),4)\n",
    "    data[name + '_cos'] = np.round(np.cos(2 * np.pi * col/max_val),4)\n",
    "    return data\n",
    "\n",
    "def helper2(time):\n",
    "    return time.weekday()\n",
    "    \n",
    "def helper3(time):\n",
    "    return time.month\n",
    "\n",
    "def helper4(time):\n",
    "    return time.hour\n",
    "\n",
    "\n",
    "    \n",
    "\n",
    "def assign_count_to_hub(dt):\n",
    "    v = np.zeros((number_zones,1))\n",
    "    v[dt['pickup_zone']] = np.array([dt['Count']]).T\n",
    "    return v.astype(int).squeeze()\n",
    "        \n",
    "df = pd.DataFrame(index=index,columns=['Hubs'])\n",
    "su=np.zeros((number_zones,1))\n",
    "for time in index:\n",
    "    try:\n",
    "        df.loc[time,'Hubs'] = assign_count_to_hub(data.loc[time])  #if 0 pickups in some interval -> error\n",
    "    except:\n",
    "        df.loc[time,'Hubs'] = np.zeros((number_zones,1)).astype(int).squeeze()\n",
    "    su = su+df.loc[time,'Hubs']\n",
    "    \n",
    "df = df.reset_index()\n",
    "df = cycle_encoder(df, df['index'].apply(helper2), 7,'weekday')\n",
    "df = cycle_encoder(df, df['index'].apply(helper3), 12,'month')\n",
    "df = cycle_encoder(df, df['index'].apply(helper4), 24,'hour')\n",
    "df = df.set_index('index')\n",
    "print(df)\n"
   ]
  },
  {
   "cell_type": "code",
   "execution_count": 132,
   "metadata": {},
   "outputs": [],
   "source": [
    "weather = pd.read_csv('DR_Data/SingleHour_Weather.csv')\n",
    "weather['time'] = pd.to_datetime(weather.Day+' '+weather['Time(utc)'])\n",
    "weather = weather.set_index('time')\n",
    "weather = weather[['GHI',  'wind_speed_avg' , 'air_temperature','rain_accumulation', 'rain_duration'  ,'rain_intensity']].resample('6H').mean()\n",
    "weather = weather[(weather.index>=start) & (weather.index<=end)]\n"
   ]
  },
  {
   "cell_type": "code",
   "execution_count": 133,
   "metadata": {},
   "outputs": [
    {
     "name": "stdout",
     "output_type": "stream",
     "text": [
      "True\n"
     ]
    }
   ],
   "source": [
    "print(df.index[0]==weather.index[0])\n",
    "df = df.join(weather).reset_index()\n"
   ]
  },
  {
   "cell_type": "code",
   "execution_count": 134,
   "metadata": {},
   "outputs": [],
   "source": [
    "#df.to_pickle('DR_Data/pickup_series_6h.pickle')\n",
    "#df.to_pickle('DR_Data/pickup_series_10max_zones.pickle')\n",
    "#df.to_pickle('DR_Data/pickup_series_1_zone.pickle')\n",
    "#df.to_pickle('DR_Data/pickup_series_6h_weather.pickle')\n",
    "#df.to_pickle('DR_Data/pickup_series_6h_10random.pickle')"
   ]
  },
  {
   "cell_type": "code",
   "execution_count": null,
   "metadata": {},
   "outputs": [],
   "source": []
  }
 ],
 "metadata": {
  "kernelspec": {
   "display_name": "Python 3",
   "language": "python",
   "name": "python3"
  },
  "language_info": {
   "codemirror_mode": {
    "name": "ipython",
    "version": 3
   },
   "file_extension": ".py",
   "mimetype": "text/x-python",
   "name": "python",
   "nbconvert_exporter": "python",
   "pygments_lexer": "ipython3",
   "version": "3.6.5"
  }
 },
 "nbformat": 4,
 "nbformat_minor": 2
}
