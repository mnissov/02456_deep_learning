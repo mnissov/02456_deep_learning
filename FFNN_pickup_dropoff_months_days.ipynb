{
 "cells": [
  {
   "cell_type": "code",
   "execution_count": 28,
   "metadata": {},
   "outputs": [],
   "source": [
    "\n",
    "import numpy as np\n",
    "import pandas as pd\n",
    "import matplotlib.pyplot as plt\n",
    "import folium\n",
    "import os\n",
    "import datetime\n",
    "from sklearn.model_selection import train_test_split"
   ]
  },
  {
   "cell_type": "code",
   "execution_count": 29,
   "metadata": {},
   "outputs": [
    {
     "name": "stdout",
     "output_type": "stream",
     "text": [
      "[46 74 91 ... 37 91 51]\n"
     ]
    }
   ],
   "source": [
    "data = pd.read_pickle('DR_Data/rentals.pickle')\n",
    "'''\n",
    "X=np.array([data.pickup_zone, data.month, data.weekday, data.air_temperature, data.rain_duration, data.rain_intensity, data.GHI]).T\n",
    "y=np.array(data.dropoff_zone).T\n",
    "\n",
    "y = data.dropoff_zone\n",
    "X = data.drop(['created_at','finished_at','pickup_hub_id','dropoff_hub_id','user_id','dropoff_zone'], axis=1)\n",
    "'''\n",
    "X=np.array([data.pickup_zone, data.month_sin,data.month_cos , data.weekday_sin,data.weekday_cos,data.hour_sin,data.hour_cos, data.air_temperature, data.rain_duration, data.rain_intensity, data.GHI]).T\n",
    "y=np.array(data.dropoff_zone).T\n",
    "weights=np.zeros(100)\n",
    "for e in range(len(X[:,0])):\n",
    "    weights[int(X[e,0])]+=1\n",
    "    if X[e,0]== X[-1,0]:\n",
    "        weights = weights/sum(weights)\n",
    "        weights = 1 - weights\n",
    "\n",
    "print(y)  "
   ]
  },
  {
   "cell_type": "code",
   "execution_count": 30,
   "metadata": {},
   "outputs": [],
   "source": [
    "# one hot encoding\n",
    "num_zones = int(max(X[:,0])+1)\n",
    "num_months = int(max(X[:,1])+1)\n",
    "num_days = int(max(X[:,2])+1) \n",
    "weather=True\n",
    "cycle = True\n",
    "# RBF Encoding\n",
    "RBF_Encoding=True\n",
    "if RBF_Encoding:\n",
    "    Euc_distances_sq=np.load('DR_Data/Zone_distances.npy')\n",
    "    #Gamma = 1/2*sigma^2 and is a tuning parameter\n",
    "    gamma=0.1\n",
    "    Euc_distances=np.exp(-Euc_distances_sq*gamma)\n",
    "\n",
    "num_features = int(num_zones+num_months+num_days)\n",
    "if weather:\n",
    "    X_enc=np.zeros((int(X.shape[0]),num_features+4))\n",
    "else:\n",
    "    X_enc=np.zeros((int(X.shape[0]),num_features))\n",
    "for i in range(len(X)):\n",
    "    i=int(i)\n",
    "    if RBF_Encoding:\n",
    "        X_enc[i][:num_zones] = Euc_distances_sq[int(X[i,0])] # zone\n",
    "    else:\n",
    "        X_enc[i][int(X[i,0])] = 1 # zone\n",
    "    if cycle:\n",
    "        X_enc[i,num_zones:num_zones+6]=X[i,1:7]\n",
    "        if weather:\n",
    "            X_enc[i,num_features:]=X[i,7:] #Encoding weather data\n",
    "            \n",
    "    else:\n",
    "        X_enc[i][int(X[i,1])+num_zones] = 1 # month\n",
    "        X_enc[i][int(X[i,2])+num_zones+num_months] = 1 # days\n",
    "        if weather:\n",
    "            X_enc[i,num_features:]=X[i,3:] #Encoding weather data"
   ]
  },
  {
   "cell_type": "code",
   "execution_count": 31,
   "metadata": {},
   "outputs": [],
   "source": [
    "X_train, X_valid, y_train, y_valid = train_test_split(X_enc, y, test_size=0.1, random_state=2)"
   ]
  },
  {
   "cell_type": "code",
   "execution_count": 32,
   "metadata": {},
   "outputs": [],
   "source": [
    "import torch\n",
    "from torch.autograd import Variable\n",
    "from torch.nn.parameter import Parameter\n",
    "import torch.nn as nn\n",
    "import torch.nn.functional as F\n",
    "import torch.optim as optim\n",
    "import torch.nn.init as init"
   ]
  },
  {
   "cell_type": "code",
   "execution_count": 33,
   "metadata": {},
   "outputs": [
    {
     "name": "stdout",
     "output_type": "stream",
     "text": [
      "No GPU available.\n"
     ]
    }
   ],
   "source": [
    "use_cuda = torch.cuda.is_available()\n",
    "#use_cuda = False\n",
    "print(\"Running GPU.\") if use_cuda else print(\"No GPU available.\")\n",
    "\n",
    "def get_variable(x):\n",
    "    \"\"\" Converts tensors to cuda, if available. \"\"\"\n",
    "    if use_cuda:\n",
    "        return x.cuda()\n",
    "    return x\n",
    "\n",
    "def get_numpy(x):\n",
    "    \"\"\" Get numpy array for both cuda and not. \"\"\"\n",
    "    if use_cuda:\n",
    "        return x.cpu().data.numpy()\n",
    "    return x.data.numpy()"
   ]
  },
  {
   "cell_type": "markdown",
   "metadata": {},
   "source": [
    "**BUILDING MODEL**"
   ]
  },
  {
   "cell_type": "code",
   "execution_count": 34,
   "metadata": {},
   "outputs": [],
   "source": [
    "# Hyperparameters\n",
    "num_classes = num_zones\n",
    "num_l1 = 128\n",
    "num_l2 = 128\n",
    "num_l3 = 128\n",
    "\n",
    "learning_rate = 1e-6\n",
    "weight_decay = 0\n",
    "\n",
    "class Net(nn.Module):\n",
    "    def __init__(self, num_features, num_hidden1, num_hidden2, num_output):\n",
    "        super(Net, self).__init__()\n",
    "        # input layer\n",
    "        if weather:\n",
    "            self.W_1 = Parameter(init.kaiming_normal_(torch.Tensor(num_hidden1, num_features+4)))\n",
    "        else:\n",
    "            self.W_1 = Parameter(init.kaiming_normal_(torch.Tensor(num_hidden1, num_features)))\n",
    "        self.b_1 = Parameter(init.constant_(torch.Tensor(num_hidden1), 0))\n",
    "        # hidden layer 1\n",
    "        self.W_2 = Parameter(init.kaiming_normal_(torch.Tensor(num_hidden2, num_hidden1)))\n",
    "        self.b_2 = Parameter(init.constant_(torch.Tensor(num_hidden2), 0))\n",
    "        # hidden layer 2\n",
    "        self.W_3 = Parameter(init.kaiming_normal_(torch.Tensor(num_output, num_hidden2)))\n",
    "        self.b_3 = Parameter(init.constant_(torch.Tensor(num_output), 0))\n",
    "        # define activation function in constructor\n",
    "        self.activation = torch.nn.Tanh()\n",
    "        # define dropout to reduce overfitting\n",
    "        self.drop = torch.nn.Dropout(p=0.5)\n",
    "        # define batchnorm\n",
    "        self.batch1 = torch.nn.BatchNorm1d(num_hidden1)\n",
    "        self.batch2 = torch.nn.BatchNorm1d(num_hidden2)\n",
    "        \n",
    "    def forward(self, x):\n",
    "        # forward prop\n",
    "        #x=x.type(torch.FloatTensor)\n",
    "        x = F.linear(x, self.W_1, self.b_1)\n",
    "        x = self.activation(x)\n",
    "        #x = self.drop(x)\n",
    "        x = self.batch1(x)\n",
    "        x = F.linear(x, self.W_2, self.b_2)\n",
    "        x = self.activation(x)\n",
    "        x = self.batch2(x)\n",
    "        x = F.linear(x, self.W_3, self.b_3)\n",
    "        # dropout\n",
    "        \n",
    "        return F.softmax(x, dim=1)\n",
    "\n",
    "\n",
    "net = Net(num_features, num_l1, num_l2, num_classes)\n",
    "if use_cuda:\n",
    "    net.cuda()\n",
    "    \n",
    "optimizer = optim.Adam(net.parameters(), lr=learning_rate, weight_decay=weight_decay)\n",
    "criterion = nn.CrossEntropyLoss(weight=torch.Tensor(weights.astype(float)))"
   ]
  },
  {
   "cell_type": "code",
   "execution_count": 35,
   "metadata": {
    "scrolled": true
   },
   "outputs": [
    {
     "name": "stdout",
     "output_type": "stream",
     "text": [
      "Epoch  1 : Train Loss 0.899146 , Train acc 0.015449, Valid acc 0.015714\n",
      "Epoch  3 : Train Loss 0.898999 , Train acc 0.015366, Valid acc 0.015625\n",
      "Epoch  5 : Train Loss 0.898832 , Train acc 0.015894, Valid acc 0.016246\n",
      "Epoch  7 : Train Loss 0.898642 , Train acc 0.016821, Valid acc 0.017401\n",
      "Epoch  9 : Train Loss 0.898427 , Train acc 0.017021, Valid acc 0.017667\n",
      "Epoch 11 : Train Loss 0.898184 , Train acc 0.022754, Valid acc 0.023393\n",
      "Epoch 13 : Train Loss 0.897910 , Train acc 0.029736, Valid acc 0.029830\n",
      "Epoch 15 : Train Loss 0.897602 , Train acc 0.048608, Valid acc 0.049139\n",
      "Epoch 17 : Train Loss 0.897255 , Train acc 0.048862, Valid acc 0.049316\n",
      "Epoch 19 : Train Loss 0.896873 , Train acc 0.049272, Valid acc 0.049627\n",
      "Epoch 21 : Train Loss 0.896466 , Train acc 0.049478, Valid acc 0.050426\n",
      "Epoch 23 : Train Loss 0.896052 , Train acc 0.049487, Valid acc 0.050426\n",
      "Epoch 25 : Train Loss 0.895646 , Train acc 0.049619, Valid acc 0.050471\n",
      "Epoch 27 : Train Loss 0.895255 , Train acc 0.055483, Valid acc 0.056552\n",
      "Epoch 29 : Train Loss 0.894880 , Train acc 0.055996, Valid acc 0.056996\n",
      "Epoch 31 : Train Loss 0.894517 , Train acc 0.058354, Valid acc 0.059126\n",
      "Epoch 33 : Train Loss 0.894164 , Train acc 0.065625, Valid acc 0.066140\n",
      "Epoch 35 : Train Loss 0.893817 , Train acc 0.066050, Valid acc 0.066539\n",
      "Epoch 37 : Train Loss 0.893470 , Train acc 0.066255, Valid acc 0.066628\n",
      "Epoch 39 : Train Loss 0.893117 , Train acc 0.066270, Valid acc 0.066628\n",
      "Epoch 41 : Train Loss 0.892749 , Train acc 0.087266, Valid acc 0.087979\n",
      "Epoch 43 : Train Loss 0.892359 , Train acc 0.087065, Valid acc 0.087891\n",
      "Epoch 45 : Train Loss 0.891937 , Train acc 0.090122, Valid acc 0.091042\n",
      "Epoch 47 : Train Loss 0.891478 , Train acc 0.089966, Valid acc 0.090953\n",
      "Epoch 49 : Train Loss 0.890982 , Train acc 0.089907, Valid acc 0.090865\n",
      "Epoch 51 : Train Loss 0.890460 , Train acc 0.089907, Valid acc 0.090865\n",
      "Epoch 53 : Train Loss 0.889931 , Train acc 0.095811, Valid acc 0.096680\n",
      "Epoch 55 : Train Loss 0.889416 , Train acc 0.098135, Valid acc 0.099121\n",
      "Epoch 57 : Train Loss 0.888930 , Train acc 0.098335, Valid acc 0.099165\n",
      "Epoch 59 : Train Loss 0.888480 , Train acc 0.098335, Valid acc 0.099121\n",
      "Epoch 61 : Train Loss 0.888065 , Train acc 0.104297, Valid acc 0.103516\n",
      "Epoch 63 : Train Loss 0.887683 , Train acc 0.104287, Valid acc 0.103560\n",
      "Epoch 65 : Train Loss 0.887328 , Train acc 0.104331, Valid acc 0.103471\n",
      "Epoch 67 : Train Loss 0.886995 , Train acc 0.104351, Valid acc 0.103471\n",
      "Epoch 69 : Train Loss 0.886680 , Train acc 0.104473, Valid acc 0.103471\n",
      "Epoch 71 : Train Loss 0.886380 , Train acc 0.104473, Valid acc 0.103382\n",
      "Epoch 73 : Train Loss 0.886093 , Train acc 0.104473, Valid acc 0.103382\n",
      "Epoch 75 : Train Loss 0.885817 , Train acc 0.104458, Valid acc 0.103294\n",
      "Epoch 77 : Train Loss 0.885550 , Train acc 0.106973, Valid acc 0.105957\n",
      "Epoch 79 : Train Loss 0.885294 , Train acc 0.106997, Valid acc 0.106090\n",
      "Epoch 81 : Train Loss 0.885047 , Train acc 0.106924, Valid acc 0.105868\n",
      "Epoch 83 : Train Loss 0.884808 , Train acc 0.106919, Valid acc 0.105913\n",
      "Epoch 85 : Train Loss 0.884578 , Train acc 0.106899, Valid acc 0.105913\n",
      "Epoch 87 : Train Loss 0.884355 , Train acc 0.106792, Valid acc 0.105913\n",
      "Epoch 89 : Train Loss 0.884141 , Train acc 0.106655, Valid acc 0.105602\n",
      "Epoch 91 : Train Loss 0.883931 , Train acc 0.106655, Valid acc 0.105602\n",
      "Epoch 93 : Train Loss 0.883726 , Train acc 0.106787, Valid acc 0.105691\n",
      "Epoch 95 : Train Loss 0.883524 , Train acc 0.106206, Valid acc 0.104847\n",
      "Epoch 97 : Train Loss 0.883319 , Train acc 0.105684, Valid acc 0.103915\n",
      "Epoch 99 : Train Loss 0.883108 , Train acc 0.105684, Valid acc 0.103915\n"
     ]
    },
    {
     "data": {
      "text/plain": [
       "<matplotlib.legend.Legend at 0x1a2b2c30d0>"
      ]
     },
     "execution_count": 35,
     "metadata": {},
     "output_type": "execute_result"
    },
    {
     "data": {
      "image/png": "[encoded data removed]",
      "text/plain": [
       "<Figure size 432x288 with 1 Axes>"
      ]
     },
     "metadata": {
      "needs_background": "light"
     },
     "output_type": "display_data"
    },
    {
     "data": {
      "image/png": "[encoded data removed]",
      "text/plain": [
       "<Figure size 432x288 with 1 Axes>"
      ]
     },
     "metadata": {
      "needs_background": "light"
     },
     "output_type": "display_data"
    }
   ],
   "source": [
    "from sklearn.metrics import accuracy_score\n",
    "\n",
    "# setting hyperparameters and gettings epoch sizes\n",
    "batch_size = 1024\n",
    "num_epochs = 100\n",
    "num_samples_train = X_train.shape[0]\n",
    "num_batches_train = num_samples_train // batch_size\n",
    "num_samples_valid = X_valid.shape[0]\n",
    "num_batches_valid = num_samples_valid // batch_size\n",
    "\n",
    "# setting up lists for handling loss/accuracy\n",
    "train_acc, train_loss = [], []\n",
    "valid_acc, valid_loss = [], []\n",
    "test_acc, test_loss = [], []\n",
    "cur_loss = 0\n",
    "losses = []\n",
    "\n",
    "get_slice = lambda i, size: range(i * size, (i + 1) * size)\n",
    "\n",
    "for epoch in range(num_epochs):\n",
    "    # Forward -> Backprob -> Update params\n",
    "    ## Train\n",
    "    cur_loss = 0\n",
    "    net.train()\n",
    "    for i in range(num_batches_train):\n",
    "        slce = get_slice(i, batch_size)\n",
    "        x_batch = get_variable(Variable(torch.from_numpy(X_train[slce])).type(torch.FloatTensor))\n",
    "        output = net(x_batch)\n",
    "        \n",
    "        # compute gradients given loss\n",
    "        target_batch = get_variable(Variable(torch.from_numpy(y_train[slce]).long()))\n",
    "        batch_loss = criterion(output, target_batch)\n",
    "        optimizer.zero_grad()\n",
    "        batch_loss.backward()\n",
    "        optimizer.step()\n",
    "        \n",
    "        cur_loss += batch_loss   \n",
    "    losses.append(cur_loss / batch_size)\n",
    "\n",
    "    net.eval()\n",
    "    ### Evaluate training\n",
    "    train_preds, train_targs = [], []\n",
    "    for i in range(num_batches_train):\n",
    "        slce = get_slice(i, batch_size)\n",
    "        x_batch = get_variable(Variable(torch.from_numpy(X_train[slce])).type(torch.FloatTensor))\n",
    "        \n",
    "        output = net(x_batch)\n",
    "        preds = torch.max(output, 1)[1]\n",
    "        \n",
    "        train_targs += list(y_train[slce])\n",
    "        train_preds += list(get_numpy(preds))\n",
    "    \n",
    "    ### Evaluate validation\n",
    "    val_preds, val_targs = [], []\n",
    "    for i in range(num_batches_valid):\n",
    "        slce = get_slice(i, batch_size)\n",
    "        x_batch = get_variable(Variable(torch.from_numpy(X_valid[slce])).type(torch.FloatTensor))\n",
    "        \n",
    "        output = net(x_batch)\n",
    "        preds = torch.max(output, 1)[1]\n",
    "        val_preds += list(get_numpy(preds))\n",
    "        val_targs += list(y_valid[slce])\n",
    "\n",
    "    train_acc_cur = accuracy_score(train_targs, train_preds)\n",
    "    valid_acc_cur = accuracy_score(val_targs, val_preds)\n",
    "    \n",
    "    train_acc.append(train_acc_cur)\n",
    "    valid_acc.append(valid_acc_cur)\n",
    "    \n",
    "    if epoch % 2 == 0:\n",
    "        print(\"Epoch %2i : Train Loss %f , Train acc %f, Valid acc %f\" % (\n",
    "                epoch+1, losses[-1], train_acc_cur, valid_acc_cur))\n",
    "\n",
    "epoch = np.arange(len(train_acc))\n",
    "plt.figure()\n",
    "plt.plot(epoch, train_acc, 'r', epoch, valid_acc, 'b')\n",
    "plt.legend(['Train Accucary','Validation Accuracy'])\n",
    "plt.xlabel('Updates'), plt.ylabel('Acc')\n",
    "plt.figure()\n",
    "plt.plot(losses)\n",
    "plt.legend('Loss')"
   ]
  },
  {
   "cell_type": "code",
   "execution_count": 36,
   "metadata": {},
   "outputs": [],
   "source": [
    "#torch.save(net,'FFNN_months_days.pt')\n",
    "#output = net(get_variable(Variable(torch.from_numpy(X_valid_enc))).type(torch.FloatTensor))\n",
    "#plt.plot(output[10].detach().numpy())\n",
    "#print(np.argmax(X_valid_enc[0]))\n",
    "#print(y_train[10])"
   ]
  },
  {
   "cell_type": "code",
   "execution_count": null,
   "metadata": {},
   "outputs": [],
   "source": []
  }
 ],
 "metadata": {
  "kernelspec": {
   "display_name": "Python 3",
   "language": "python",
   "name": "python3"
  },
  "language_info": {
   "codemirror_mode": {
    "name": "ipython",
    "version": 3
   },
   "file_extension": ".py",
   "mimetype": "text/x-python",
   "name": "python",
   "nbconvert_exporter": "python",
   "pygments_lexer": "ipython3",
   "version": "3.6.5"
  }
 },
 "nbformat": 4,
 "nbformat_minor": 2
}
