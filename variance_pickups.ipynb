{
 "cells": [
  {
   "cell_type": "code",
   "execution_count": 1,
   "metadata": {},
   "outputs": [],
   "source": [
    "import numpy as np\n",
    "import pandas as pd\n",
    "import matplotlib.pyplot as plt\n",
    "\n",
    "import os"
   ]
  },
  {
   "cell_type": "code",
   "execution_count": 13,
   "metadata": {},
   "outputs": [
    {
     "name": "stdout",
     "output_type": "stream",
     "text": [
      "2.8734892962416456 1.9319822672577582 0.7\n"
     ]
    }
   ],
   "source": [
    "data = pd.read_pickle('DR_Data/pickup_series_10max_zones.pickle')\n",
    "l = []\n",
    "\n",
    "for i in data.Hubs:\n",
    "    l.append(i.tolist())\n",
    "\n",
    "hubs = pd.DataFrame(l)\n",
    "st = hubs.std().mean()\n",
    "avg = hubs.mean().mean()\n",
    "m = hubs.median().mean()\n",
    "print(st,avg,m)"
   ]
  },
  {
   "cell_type": "code",
   "execution_count": 14,
   "metadata": {},
   "outputs": [
    {
     "name": "stdout",
     "output_type": "stream",
     "text": [
      "1.2201783447343608 0.6849271690943636 0.2\n"
     ]
    }
   ],
   "source": [
    "data = pd.read_pickle('DR_Data/pickup_series_6h_10random.pickle')\n",
    "l = []\n",
    "\n",
    "for i in data.Hubs:\n",
    "    l.append(i.tolist())\n",
    "\n",
    "hubs = pd.DataFrame(l)\n",
    "st = hubs.std().mean()\n",
    "avg = hubs.mean().mean()\n",
    "m = hubs.median().mean()\n",
    "print(st,avg,m)"
   ]
  },
  {
   "cell_type": "code",
   "execution_count": 12,
   "metadata": {},
   "outputs": [
    {
     "name": "stdout",
     "output_type": "stream",
     "text": [
      "1.1629742722446632 0.611659278024066 0.07\n"
     ]
    }
   ],
   "source": [
    "data = pd.read_pickle('DR_Data/pickup_series_6h.pickle')\n",
    "l = []\n",
    "\n",
    "for i in data.Hubs:\n",
    "    l.append(i.tolist())\n",
    "\n",
    "hubs = pd.DataFrame(l)\n",
    "st = hubs.std().mean()\n",
    "avg = hubs.mean().mean()\n",
    "m = hubs.median().mean()\n",
    "print(st,avg,m)"
   ]
  },
  {
   "cell_type": "code",
   "execution_count": null,
   "metadata": {},
   "outputs": [],
   "source": []
  }
 ],
 "metadata": {
  "kernelspec": {
   "display_name": "Python 3",
   "language": "python",
   "name": "python3"
  },
  "language_info": {
   "codemirror_mode": {
    "name": "ipython",
    "version": 3
   },
   "file_extension": ".py",
   "mimetype": "text/x-python",
   "name": "python",
   "nbconvert_exporter": "python",
   "pygments_lexer": "ipython3",
   "version": "3.7.4"
  }
 },
 "nbformat": 4,
 "nbformat_minor": 2
}
