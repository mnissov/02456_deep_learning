{
 "cells": [
  {
   "cell_type": "code",
   "execution_count": 59,
   "metadata": {},
   "outputs": [],
   "source": [
    "%matplotlib inline\n",
    "import numpy as np\n",
    "import pandas as pd\n",
    "import matplotlib.pyplot as plt\n",
    "import folium\n",
    "import os\n",
    "import datetime\n",
    "from sklearn.model_selection import train_test_split"
   ]
  },
  {
   "cell_type": "code",
   "execution_count": 60,
   "metadata": {},
   "outputs": [],
   "source": [
    "def extend_vector_with_weekday(hubs,sin,cos,GHI,WS,AT,RA,RD,RI):\n",
    "    l = []\n",
    "    for hub in range(len(hubs)):\n",
    "        h = list(hubs[hub])\n",
    "        h.extend([sin[hub],cos[hub],GHI[hub],WS[hub],AT[hub],RA[hub],RD[hub],RI[hub]])\n",
    "        l.append(np.array(h))\n",
    "    return l"
   ]
  },
  {
   "cell_type": "code",
   "execution_count": 61,
   "metadata": {},
   "outputs": [
    {
     "name": "stdout",
     "output_type": "stream",
     "text": [
      "(108, 28, 1551) (100, 1, 1551)\n"
     ]
    }
   ],
   "source": [
    "data = pd.read_pickle('DR_Data/pickup_series_6h_weather.pickle')\n",
    "pickups_out = np.array(data.Hubs)\n",
    "weekday = True\n",
    "added_features = 0\n",
    "if weekday:\n",
    "    data.Hubs = extend_vector_with_weekday(data.Hubs,data.weekday_sin,data.weekday_cos,data.GHI,data.wind_speed_avg,data.air_temperature, data.rain_accumulation, data.rain_duration, data.rain_intensity)\n",
    "    added_features = added_features + 8\n",
    "    \n",
    "pickups_in = np.array(data.Hubs)\n",
    "\n",
    "num_zones = pickups_in[0].shape[0] - added_features # -2 from weekdays sin and cos\n",
    "seq_length = 28\n",
    "num_intervals = pickups_in.shape[0]-seq_length\n",
    "num_features = pickups_in[0].shape[0] \n",
    "\n",
    "X = np.zeros((num_features, seq_length, num_intervals))\n",
    "y = np.zeros((num_zones, 1, num_intervals))\n",
    "for i in range(num_intervals):\n",
    "    X[:,:,i] = np.array(list(pickups_in[i:i+seq_length])).T\n",
    "    y[:,:,i] = np.array([pickups_out[i+seq_length]]).T\n",
    "    \n",
    "print(X.shape,y.shape)\n",
    "X_train, X_valid, y_train, y_valid = train_test_split(X.transpose(), y.transpose(), test_size=0.2, random_state=1)\n",
    "#print(X_train.shape, y_train.shape)\n",
    "#data.head(10)"
   ]
  },
  {
   "cell_type": "code",
   "execution_count": 62,
   "metadata": {},
   "outputs": [],
   "source": [
    "# Load functions\n",
    "import torch\n",
    "from torch.autograd import Variable\n",
    "import torch.nn as nn\n",
    "import torch.optim as optim\n",
    "from torch.nn import Linear, GRU, Conv2d, Dropout, Dropout2d, MaxPool2d, BatchNorm1d, BatchNorm2d\n",
    "from torch.nn.functional import relu, elu, relu6, sigmoid, tanh, softmax"
   ]
  },
  {
   "cell_type": "code",
   "execution_count": 63,
   "metadata": {},
   "outputs": [
    {
     "name": "stdout",
     "output_type": "stream",
     "text": [
      "No GPU available.\n"
     ]
    }
   ],
   "source": [
    "use_cuda = torch.cuda.is_available()\n",
    "print(\"Running GPU.\") if use_cuda else print(\"No GPU available.\")\n",
    "use_cuda =False\n",
    "\n",
    "def get_variable(x):\n",
    "    \"\"\" Converts tensors to cuda, if available. \"\"\"\n",
    "    if use_cuda:\n",
    "        return x.cuda()\n",
    "    return x\n",
    "\n",
    "\n",
    "def get_numpy(x):\n",
    "    \"\"\" Get numpy array for both cuda and not. \"\"\"\n",
    "    if use_cuda:\n",
    "        return x.cpu().data.numpy()\n",
    "    return x.data.numpy()"
   ]
  },
  {
   "cell_type": "code",
   "execution_count": 64,
   "metadata": {},
   "outputs": [
    {
     "name": "stdout",
     "output_type": "stream",
     "text": [
      "Net(\n",
      "  (drop): Dropout(p=0.9, inplace=False)\n",
      "  (bn0): BatchNorm1d(28, eps=1e-05, momentum=0.1, affine=True, track_running_stats=True)\n",
      "  (rnn_1): LSTM(108, 16, num_layers=3, dropout=0.75)\n",
      "  (l_out): Linear(in_features=448, out_features=100, bias=True)\n",
      ")\n"
     ]
    }
   ],
   "source": [
    "rnn_seq_length = seq_length\n",
    "rnn_input_size = num_features\n",
    "rnn_hidden_size = 16\n",
    "rnn_direction = 0\n",
    "rnn_layers = 3\n",
    "\n",
    "rnn_out_features = rnn_seq_length*rnn_hidden_size*(rnn_direction+1)\n",
    "features_cat_size = rnn_out_features\n",
    "\n",
    "class Net(nn.Module):\n",
    "    def __init__(self):\n",
    "        super(Net, self).__init__()        \n",
    "        self.drop = Dropout(p=0.9)\n",
    "        self.bn0 = BatchNorm1d(rnn_seq_length)\n",
    "        \n",
    "        self.rnn_1 = nn.LSTM(input_size=rnn_input_size,\n",
    "                            hidden_size=rnn_hidden_size,\n",
    "                            num_layers=rnn_layers,\n",
    "                            bidirectional=(rnn_direction>0),\n",
    "                            dropout = 0.75)\n",
    "        \n",
    "        self.l_out = Linear(in_features=features_cat_size,\n",
    "                            out_features=num_zones,\n",
    "                            bias=True)\n",
    "        \n",
    "    def forward(self, x):\n",
    "        features = []\n",
    "        out = {}\n",
    "        \n",
    "        x = self.bn0(x)\n",
    "        \n",
    "        features_rnn = x.view(rnn_seq_length, -1, rnn_input_size)\n",
    "        features_rnn,_ = self.rnn_1(features_rnn)\n",
    "        features_rnn = self.drop(features_rnn)\n",
    "        \n",
    "        features_rnn = features_rnn.view(-1, rnn_out_features) #self.rnn_1.hidden_size)\n",
    "        \n",
    "        # Append features to the list \"features\"\n",
    "        features.append(features_rnn)\n",
    "        \n",
    "        ## Output layer where all features are in use ##\n",
    "        features_final = torch.cat(features, dim=1)\n",
    "        \n",
    "        #features_final = self.drop(features_final)\n",
    "        out['out'] = self.l_out(features_final)\n",
    "        '''\n",
    "        x, (h,c) = self.rnn_1(x)\n",
    "        #x = x.view(-1,self.rnn_1.rnn_hidden_size)\n",
    "        x = self.l_out(x)\n",
    "        return x\n",
    "        '''\n",
    "        return out['out']\n",
    "\n",
    "net = Net()\n",
    "if use_cuda:\n",
    "    net.cuda()\n",
    "print(net)"
   ]
  },
  {
   "cell_type": "code",
   "execution_count": 65,
   "metadata": {},
   "outputs": [
    {
     "name": "stdout",
     "output_type": "stream",
     "text": [
      "Epoch 0 \t train loss: 2.1469742679 \t valid loss: 2.5528637045 \t valid acc: 0.7230\n",
      "Epoch 5 \t train loss: 1.7107225733 \t valid loss: 1.4832410295 \t valid acc: 0.5985\n",
      "Epoch 10 \t train loss: 1.5794681441 \t valid loss: 1.3774726971 \t valid acc: 0.6134\n",
      "Epoch 15 \t train loss: 1.5570499393 \t valid loss: 1.3091465721 \t valid acc: 0.6397\n",
      "Epoch 20 \t train loss: 1.4983955145 \t valid loss: 1.2862375583 \t valid acc: 0.6344\n",
      "Epoch 25 \t train loss: 1.4758935555 \t valid loss: 1.2604268272 \t valid acc: 0.6490\n",
      "Epoch 30 \t train loss: 1.4583562411 \t valid loss: 1.2591263213 \t valid acc: 0.6620\n",
      "Epoch 35 \t train loss: 1.4549625872 \t valid loss: 1.2668239866 \t valid acc: 0.6652\n",
      "Epoch 40 \t train loss: 1.4266295114 \t valid loss: 1.2500979477 \t valid acc: 0.6495\n",
      "Epoch 45 \t train loss: 1.4228377921 \t valid loss: 1.2570683297 \t valid acc: 0.6725\n",
      "Epoch 50 \t train loss: 1.4077568318 \t valid loss: 1.2491721417 \t valid acc: 0.6631\n",
      "Epoch 55 \t train loss: 1.4005789984 \t valid loss: 1.2499408612 \t valid acc: 0.6657\n",
      "Epoch 60 \t train loss: 1.3879426260 \t valid loss: 1.2531960465 \t valid acc: 0.6713\n",
      "Epoch 65 \t train loss: 1.3810256283 \t valid loss: 1.2202797218 \t valid acc: 0.6505\n",
      "Epoch 70 \t train loss: 1.3680093406 \t valid loss: 1.2403101482 \t valid acc: 0.6521\n",
      "Epoch 75 \t train loss: 1.3502847693 \t valid loss: 1.2229944295 \t valid acc: 0.6634\n",
      "Epoch 80 \t train loss: 1.3802751074 \t valid loss: 1.2290784528 \t valid acc: 0.6574\n",
      "Epoch 85 \t train loss: 1.3465069698 \t valid loss: 1.2274288755 \t valid acc: 0.6595\n",
      "Epoch 90 \t train loss: 1.3427583773 \t valid loss: 1.2254696394 \t valid acc: 0.6645\n",
      "Epoch 95 \t train loss: 1.3594125965 \t valid loss: 1.2216294518 \t valid acc: 0.6621\n"
     ]
    },
    {
     "data": {
      "image/png": "[encoded data removed]",
      "text/plain": [
       "<Figure size 432x288 with 2 Axes>"
      ]
     },
     "metadata": {
      "needs_background": "light"
     },
     "output_type": "display_data"
    }
   ],
   "source": [
    "# Hyper-parameters\n",
    "# setting hyperparameters and gettings epoch sizes\n",
    "batch_size = 8\n",
    "num_epochs = 100\n",
    "num_samples_train = X_train.shape[0]\n",
    "num_batches_train = num_samples_train // batch_size\n",
    "num_samples_valid = X_valid.shape[0]\n",
    "num_batches_valid = num_samples_valid // batch_size\n",
    "\n",
    "# Define a loss function and optimizer for this problem\n",
    "criterion = torch.nn.MSELoss(size_average=None, reduce=None, reduction='mean')\n",
    "optimizer = optim.Adam(net.parameters(), lr=0.001, weight_decay=1e-5)\n",
    "\n",
    "def accuracy(ys, ts):\n",
    "    predictions = torch.round(ys)\n",
    "    correct_prediction = torch.eq(predictions,ts)\n",
    "    return torch.mean(correct_prediction.float())\n",
    "\n",
    "# Track loss\n",
    "train_iter = []\n",
    "train_loss, train_accs = [], []\n",
    "valid_iter = []\n",
    "valid_loss, valid_accs = [], []\n",
    "\n",
    "# For each epoch\n",
    "for i in range(num_epochs):\n",
    "    \n",
    "    # Track loss\n",
    "    epoch_training_loss = 0\n",
    "    epoch_training_accs = 0\n",
    "    epoch_training_iter = 0\n",
    "    epoch_validation_loss = 0\n",
    "    epoch_validation_accs = 0\n",
    "    epoch_validation_iter = 0\n",
    "    \n",
    "    net.eval()\n",
    "    for j in range(num_batches_valid):\n",
    "        inputs = get_variable(torch.Tensor(X_valid[j * batch_size: (j + 1) * batch_size]))\n",
    "        targets = get_variable(torch.Tensor(np.squeeze(y_valid[j * batch_size: (j + 1) * batch_size])))\n",
    "        # Forward pass\n",
    "        outputs = net.forward(inputs)\n",
    "        # Compute loss\n",
    "        loss = criterion(outputs,targets)\n",
    "        # Update loss\n",
    "        epoch_validation_loss += loss.cpu().detach().numpy()\n",
    "        epoch_validation_accs += accuracy(outputs, targets)\n",
    "        epoch_validation_iter += 1\n",
    "    \n",
    "    net.train()\n",
    "    for j in range(num_batches_train):\n",
    "        inputs = get_variable(torch.Tensor(X_train[j * batch_size: (j + 1) * batch_size]))\n",
    "        targets = get_variable(torch.Tensor(np.squeeze(y_train[j * batch_size: (j + 1) * batch_size])))\n",
    "        outputs = net.forward(inputs)\n",
    "        # Compute loss\n",
    "        loss = criterion(outputs,targets)\n",
    "        # Backward pass\n",
    "        optimizer.zero_grad()\n",
    "        loss.backward()\n",
    "        optimizer.step()\n",
    "        # Update loss\n",
    "        epoch_training_loss += loss.cpu().detach().numpy()\n",
    "        epoch_training_accs += accuracy(outputs,targets)\n",
    "        epoch_training_iter += 1\n",
    "        \n",
    "    # Save loss for plot\n",
    "    train_loss.append(epoch_training_loss/epoch_training_iter)\n",
    "    train_accs.append(epoch_training_accs/epoch_training_iter)\n",
    "    train_iter.append(i)\n",
    "    \n",
    "    valid_loss.append(epoch_validation_loss/epoch_validation_iter)\n",
    "    valid_accs.append(epoch_validation_accs/epoch_validation_iter)\n",
    "    valid_iter.append(i)\n",
    "\n",
    "    # Print loss every 5 epochs\n",
    "    if i % 5 == 0:\n",
    "        print(f'Epoch {i} \\t train loss: {train_loss[-1]:.10f} \\t valid loss: {valid_loss[-1]:.10f} \\t valid acc: {valid_accs[-1]:.4f}')\n",
    "\n",
    "\n",
    "\n",
    "# Plot training and validation loss\n",
    "epoch = np.arange(len(train_loss))\n",
    "plt.figure()\n",
    "plt.subplot(1,2,1)\n",
    "plt.plot(train_iter, train_loss, 'r', label='Training loss',)\n",
    "plt.plot(valid_iter, valid_loss, 'b', label='Validation loss')\n",
    "plt.legend()\n",
    "plt.xlabel('Epoch'), plt.ylabel('MSE')\n",
    "\n",
    "plt.subplot(1,2,2)\n",
    "plt.plot(train_iter, train_accs, 'r', label='Training Accuracy')\n",
    "plt.plot(valid_iter, valid_accs, 'b', label='Validation Accuracy')\n",
    "plt.legend()\n",
    "plt.xlabel('Epoch'), plt.ylabel('')\n",
    "plt.show()"
   ]
  }
 ],
 "metadata": {
  "kernelspec": {
   "display_name": "Python 3",
   "language": "python",
   "name": "python3"
  },
  "language_info": {
   "codemirror_mode": {
    "name": "ipython",
    "version": 3
   },
   "file_extension": ".py",
   "mimetype": "text/x-python",
   "name": "python",
   "nbconvert_exporter": "python",
   "pygments_lexer": "ipython3",
   "version": "3.6.8"
  }
 },
 "nbformat": 4,
 "nbformat_minor": 2
}
