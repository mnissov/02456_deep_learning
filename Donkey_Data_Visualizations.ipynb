{
 "cells": [
  {
   "cell_type": "code",
   "execution_count": 2,
   "metadata": {},
   "outputs": [],
   "source": [
    "import numpy as np\n",
    "import pandas as pd\n",
    "import matplotlib.pyplot as plt\n",
    "#import folium\n",
    "import os"
   ]
  },
  {
   "cell_type": "code",
   "execution_count": 3,
   "metadata": {},
   "outputs": [],
   "source": [
    "%matplotlib inline\n",
    "\n",
    "plt.style.use(\"ggplot\")\n",
    "plt.rcParams[\"figure.figsize\"] = (16,8)\n",
    "plt.style.use(\"ggplot\")\n",
    "plt.rcParams[\"figure.figsize\"] = (16,8)"
   ]
  },
  {
   "cell_type": "code",
   "execution_count": 4,
   "metadata": {},
   "outputs": [
    {
     "name": "stdout",
     "output_type": "stream",
     "text": [
      "C:\\Users\\mirab\\Dropbox\\Deep Learning\n"
     ]
    }
   ],
   "source": [
    "file_path = os.getcwd()\n",
    "print(file_path)"
   ]
  },
  {
   "cell_type": "markdown",
   "metadata": {},
   "source": [
    "-------------------------------------------------------\n",
    "\n",
    "# Data preparation and description"
   ]
  },
  {
   "cell_type": "markdown",
   "metadata": {},
   "source": [
    "Let's start by simply importing the datasets and doing some initial restructuring"
   ]
  },
  {
   "cell_type": "code",
   "execution_count": 5,
   "metadata": {},
   "outputs": [],
   "source": [
    "# importing data\n",
    "df_rentals = pd.read_csv(file_path+\"/DR_Data/Rentals_2019-4-2_1456.csv\", parse_dates=[0,1])\n",
    "df_hubav = pd.read_csv(file_path+\"/DR_Data/Hubavailabilityaudits_2019-4-2_1535.csv\", parse_dates=[3])\n",
    "df_hubs = pd.read_csv(file_path+\"/DR_Data/Hubs_2019-4-2_1201.csv\", parse_dates=[0,-1])\n",
    "df_searchlog1 = pd.read_csv(file_path+\"/DR_Data/Searchlogs_2019-4-2_1234.csv\", parse_dates=[-1])\n",
    "df_searchlog2 = pd.read_csv(file_path+\"/DR_Data/Searchlogs_2019-4-2_1504.csv\", parse_dates=[-1])"
   ]
  },
  {
   "cell_type": "code",
   "execution_count": 6,
   "metadata": {},
   "outputs": [],
   "source": [
    "#concatenating searchlogs dataframes (the second file is a continuation of the first)\n",
    "df_searchlog = pd.concat([df_searchlog1, df_searchlog2])"
   ]
  },
  {
   "cell_type": "markdown",
   "metadata": {},
   "source": [
    "-----------------\n",
    "## Overview"
   ]
  },
  {
   "cell_type": "markdown",
   "metadata": {},
   "source": [
    "The data we will be dealing with belongs to Donkey Republic, a bike-sharing company operating in Copenhagen. The service offered by Donkey Republic falls under the family of *hub-based* bike-sharing services. This means that bikes can only be picked-up and dropped-off in specific areas - i.e. \"virtual\" areas (meaning that no physical platforms are installed) called hubs. Our goal will be to define a model for the prediction of bike usage demand in the various hubs. Having accurate predictions of demand will be the key element in order to take coherent decisions on the supply side (supply dimensioning, rebalancing, hub positioning, etc.)."
   ]
  },
  {
   "cell_type": "markdown",
   "metadata": {},
   "source": [
    "Our dataset will be constituted by various measurements of the bike usage and of the service provider. The information available to us is organized in the following way:\n",
    "\n",
    "1) *df_rentals*: represents the actual bike rentals indicating time and hub for both pick-up and drop-off, together with the user id associated with that rental"
   ]
  },
  {
   "cell_type": "code",
   "execution_count": 7,
   "metadata": {},
   "outputs": [
    {
     "data": {
      "text/html": [
       "<div>\n",
       "<style scoped>\n",
       "    .dataframe tbody tr th:only-of-type {\n",
       "        vertical-align: middle;\n",
       "    }\n",
       "\n",
       "    .dataframe tbody tr th {\n",
       "        vertical-align: top;\n",
       "    }\n",
       "\n",
       "    .dataframe thead th {\n",
       "        text-align: right;\n",
       "    }\n",
       "</style>\n",
       "<table border=\"1\" class=\"dataframe\">\n",
       "  <thead>\n",
       "    <tr style=\"text-align: right;\">\n",
       "      <th></th>\n",
       "      <th>created_at</th>\n",
       "      <th>finished_at</th>\n",
       "      <th>pickup_hub_id</th>\n",
       "      <th>dropoff_hub_id</th>\n",
       "      <th>user_id</th>\n",
       "    </tr>\n",
       "  </thead>\n",
       "  <tbody>\n",
       "    <tr>\n",
       "      <td>0</td>\n",
       "      <td>2018-03-01 17:43:14.707445</td>\n",
       "      <td>2018-03-01 18:14:12.145</td>\n",
       "      <td>2163</td>\n",
       "      <td>2449.0</td>\n",
       "      <td>108186</td>\n",
       "    </tr>\n",
       "    <tr>\n",
       "      <td>1</td>\n",
       "      <td>2018-03-02 09:55:18.823405</td>\n",
       "      <td>2018-03-02 16:56:35.013</td>\n",
       "      <td>2381</td>\n",
       "      <td>2381.0</td>\n",
       "      <td>113852</td>\n",
       "    </tr>\n",
       "    <tr>\n",
       "      <td>2</td>\n",
       "      <td>2018-03-02 14:00:10.755516</td>\n",
       "      <td>2018-03-02 17:13:08.047</td>\n",
       "      <td>1513</td>\n",
       "      <td>1513.0</td>\n",
       "      <td>113912</td>\n",
       "    </tr>\n",
       "    <tr>\n",
       "      <td>3</td>\n",
       "      <td>2018-03-01 10:25:34.429934</td>\n",
       "      <td>2018-03-02 20:23:46.544</td>\n",
       "      <td>2337</td>\n",
       "      <td>2337.0</td>\n",
       "      <td>113822</td>\n",
       "    </tr>\n",
       "    <tr>\n",
       "      <td>4</td>\n",
       "      <td>2018-03-02 08:51:47.459257</td>\n",
       "      <td>2018-03-02 21:18:48.813</td>\n",
       "      <td>2153</td>\n",
       "      <td>233.0</td>\n",
       "      <td>113881</td>\n",
       "    </tr>\n",
       "    <tr>\n",
       "      <td>5</td>\n",
       "      <td>2018-03-03 13:22:27.557683</td>\n",
       "      <td>2018-03-03 13:40:09.817</td>\n",
       "      <td>2228</td>\n",
       "      <td>941.0</td>\n",
       "      <td>109897</td>\n",
       "    </tr>\n",
       "    <tr>\n",
       "      <td>6</td>\n",
       "      <td>2018-03-03 11:07:59.517016</td>\n",
       "      <td>2018-03-03 16:48:21.113</td>\n",
       "      <td>1165</td>\n",
       "      <td>1165.0</td>\n",
       "      <td>113990</td>\n",
       "    </tr>\n",
       "    <tr>\n",
       "      <td>7</td>\n",
       "      <td>2018-03-02 07:24:39.225679</td>\n",
       "      <td>2018-03-03 18:51:56.902</td>\n",
       "      <td>2226</td>\n",
       "      <td>1898.0</td>\n",
       "      <td>62726</td>\n",
       "    </tr>\n",
       "    <tr>\n",
       "      <td>8</td>\n",
       "      <td>2018-03-03 08:36:11.528752</td>\n",
       "      <td>2018-03-03 21:38:57.200</td>\n",
       "      <td>1736</td>\n",
       "      <td>1736.0</td>\n",
       "      <td>113955</td>\n",
       "    </tr>\n",
       "    <tr>\n",
       "      <td>9</td>\n",
       "      <td>2018-03-03 15:15:14.000417</td>\n",
       "      <td>2018-03-04 11:19:27.098</td>\n",
       "      <td>2426</td>\n",
       "      <td>2262.0</td>\n",
       "      <td>114049</td>\n",
       "    </tr>\n",
       "  </tbody>\n",
       "</table>\n",
       "</div>"
      ],
      "text/plain": [
       "                  created_at             finished_at  pickup_hub_id  \\\n",
       "0 2018-03-01 17:43:14.707445 2018-03-01 18:14:12.145           2163   \n",
       "1 2018-03-02 09:55:18.823405 2018-03-02 16:56:35.013           2381   \n",
       "2 2018-03-02 14:00:10.755516 2018-03-02 17:13:08.047           1513   \n",
       "3 2018-03-01 10:25:34.429934 2018-03-02 20:23:46.544           2337   \n",
       "4 2018-03-02 08:51:47.459257 2018-03-02 21:18:48.813           2153   \n",
       "5 2018-03-03 13:22:27.557683 2018-03-03 13:40:09.817           2228   \n",
       "6 2018-03-03 11:07:59.517016 2018-03-03 16:48:21.113           1165   \n",
       "7 2018-03-02 07:24:39.225679 2018-03-03 18:51:56.902           2226   \n",
       "8 2018-03-03 08:36:11.528752 2018-03-03 21:38:57.200           1736   \n",
       "9 2018-03-03 15:15:14.000417 2018-03-04 11:19:27.098           2426   \n",
       "\n",
       "   dropoff_hub_id  user_id  \n",
       "0          2449.0   108186  \n",
       "1          2381.0   113852  \n",
       "2          1513.0   113912  \n",
       "3          2337.0   113822  \n",
       "4           233.0   113881  \n",
       "5           941.0   109897  \n",
       "6          1165.0   113990  \n",
       "7          1898.0    62726  \n",
       "8          1736.0   113955  \n",
       "9          2262.0   114049  "
      ]
     },
     "execution_count": 7,
     "metadata": {},
     "output_type": "execute_result"
    }
   ],
   "source": [
    "df_rentals.head(10)"
   ]
  },
  {
   "cell_type": "markdown",
   "metadata": {},
   "source": [
    "2) *df_hubs*: describes various characteristics for each hub such as time of creation, geo-spatial location, id, name and (eventual) time of deletion"
   ]
  },
  {
   "cell_type": "code",
   "execution_count": 8,
   "metadata": {},
   "outputs": [
    {
     "data": {
      "text/html": [
       "<div>\n",
       "<style scoped>\n",
       "    .dataframe tbody tr th:only-of-type {\n",
       "        vertical-align: middle;\n",
       "    }\n",
       "\n",
       "    .dataframe tbody tr th {\n",
       "        vertical-align: top;\n",
       "    }\n",
       "\n",
       "    .dataframe thead th {\n",
       "        text-align: right;\n",
       "    }\n",
       "</style>\n",
       "<table border=\"1\" class=\"dataframe\">\n",
       "  <thead>\n",
       "    <tr style=\"text-align: right;\">\n",
       "      <th></th>\n",
       "      <th>created_at</th>\n",
       "      <th>latitude</th>\n",
       "      <th>longitude</th>\n",
       "      <th>id</th>\n",
       "      <th>name</th>\n",
       "      <th>deleted_at</th>\n",
       "    </tr>\n",
       "  </thead>\n",
       "  <tbody>\n",
       "    <tr>\n",
       "      <td>0</td>\n",
       "      <td>2018-05-21 09:35:00.697175</td>\n",
       "      <td>48.864936</td>\n",
       "      <td>2.310624</td>\n",
       "      <td>3268</td>\n",
       "      <td>Cours la Reine</td>\n",
       "      <td>2018-05-21 16:17:24.722283</td>\n",
       "    </tr>\n",
       "    <tr>\n",
       "      <td>1</td>\n",
       "      <td>2018-11-26 09:06:05.590590</td>\n",
       "      <td>55.695252</td>\n",
       "      <td>12.547185</td>\n",
       "      <td>6367</td>\n",
       "      <td>Heinesgade</td>\n",
       "      <td>NaT</td>\n",
       "    </tr>\n",
       "    <tr>\n",
       "      <td>2</td>\n",
       "      <td>2018-06-05 12:12:28.639837</td>\n",
       "      <td>55.676916</td>\n",
       "      <td>12.564896</td>\n",
       "      <td>3642</td>\n",
       "      <td>Concert Hall Pumpehuset</td>\n",
       "      <td>2018-11-15 10:45:34.468962</td>\n",
       "    </tr>\n",
       "    <tr>\n",
       "      <td>3</td>\n",
       "      <td>2018-05-28 20:07:34.173984</td>\n",
       "      <td>55.668700</td>\n",
       "      <td>12.551114</td>\n",
       "      <td>3526</td>\n",
       "      <td>Saxogade</td>\n",
       "      <td>NaT</td>\n",
       "    </tr>\n",
       "    <tr>\n",
       "      <td>4</td>\n",
       "      <td>2018-11-08 09:36:50.440822</td>\n",
       "      <td>55.699557</td>\n",
       "      <td>12.515065</td>\n",
       "      <td>6233</td>\n",
       "      <td>GrÃ¸ndal Multicenter</td>\n",
       "      <td>NaT</td>\n",
       "    </tr>\n",
       "    <tr>\n",
       "      <td>5</td>\n",
       "      <td>2018-01-16 19:05:49.192033</td>\n",
       "      <td>55.682669</td>\n",
       "      <td>12.577611</td>\n",
       "      <td>2350</td>\n",
       "      <td>Egmont</td>\n",
       "      <td>NaT</td>\n",
       "    </tr>\n",
       "    <tr>\n",
       "      <td>6</td>\n",
       "      <td>2018-01-09 14:53:52.744834</td>\n",
       "      <td>55.668653</td>\n",
       "      <td>12.543646</td>\n",
       "      <td>2276</td>\n",
       "      <td>Vega</td>\n",
       "      <td>NaT</td>\n",
       "    </tr>\n",
       "    <tr>\n",
       "      <td>7</td>\n",
       "      <td>2019-03-14 11:39:00.814359</td>\n",
       "      <td>55.697218</td>\n",
       "      <td>12.584605</td>\n",
       "      <td>7148</td>\n",
       "      <td>SÃ¸nderborggade</td>\n",
       "      <td>NaT</td>\n",
       "    </tr>\n",
       "    <tr>\n",
       "      <td>8</td>\n",
       "      <td>2018-07-22 15:03:16.438551</td>\n",
       "      <td>55.669671</td>\n",
       "      <td>12.545824</td>\n",
       "      <td>4947</td>\n",
       "      <td>MatthÃ¦usgade</td>\n",
       "      <td>NaT</td>\n",
       "    </tr>\n",
       "    <tr>\n",
       "      <td>9</td>\n",
       "      <td>2019-03-20 13:50:30.943318</td>\n",
       "      <td>55.678997</td>\n",
       "      <td>12.586016</td>\n",
       "      <td>7316</td>\n",
       "      <td>Kongens Nytorv</td>\n",
       "      <td>NaT</td>\n",
       "    </tr>\n",
       "  </tbody>\n",
       "</table>\n",
       "</div>"
      ],
      "text/plain": [
       "                  created_at   latitude  longitude    id  \\\n",
       "0 2018-05-21 09:35:00.697175  48.864936   2.310624  3268   \n",
       "1 2018-11-26 09:06:05.590590  55.695252  12.547185  6367   \n",
       "2 2018-06-05 12:12:28.639837  55.676916  12.564896  3642   \n",
       "3 2018-05-28 20:07:34.173984  55.668700  12.551114  3526   \n",
       "4 2018-11-08 09:36:50.440822  55.699557  12.515065  6233   \n",
       "5 2018-01-16 19:05:49.192033  55.682669  12.577611  2350   \n",
       "6 2018-01-09 14:53:52.744834  55.668653  12.543646  2276   \n",
       "7 2019-03-14 11:39:00.814359  55.697218  12.584605  7148   \n",
       "8 2018-07-22 15:03:16.438551  55.669671  12.545824  4947   \n",
       "9 2019-03-20 13:50:30.943318  55.678997  12.586016  7316   \n",
       "\n",
       "                      name                 deleted_at  \n",
       "0           Cours la Reine 2018-05-21 16:17:24.722283  \n",
       "1               Heinesgade                        NaT  \n",
       "2  Concert Hall Pumpehuset 2018-11-15 10:45:34.468962  \n",
       "3                 Saxogade                        NaT  \n",
       "4     GrÃ¸ndal Multicenter                        NaT  \n",
       "5                   Egmont                        NaT  \n",
       "6                     Vega                        NaT  \n",
       "7          SÃ¸nderborggade                        NaT  \n",
       "8            MatthÃ¦usgade                        NaT  \n",
       "9           Kongens Nytorv                        NaT  "
      ]
     },
     "execution_count": 8,
     "metadata": {},
     "output_type": "execute_result"
    }
   ],
   "source": [
    "df_hubs.head(10)"
   ]
  },
  {
   "cell_type": "markdown",
   "metadata": {},
   "source": [
    "3) *df_searchlog*: represents the geo-localization of users in the moment they access the app. For every search it describes location, time and user_id "
   ]
  },
  {
   "cell_type": "code",
   "execution_count": 9,
   "metadata": {},
   "outputs": [
    {
     "data": {
      "text/html": [
       "<div>\n",
       "<style scoped>\n",
       "    .dataframe tbody tr th:only-of-type {\n",
       "        vertical-align: middle;\n",
       "    }\n",
       "\n",
       "    .dataframe tbody tr th {\n",
       "        vertical-align: top;\n",
       "    }\n",
       "\n",
       "    .dataframe thead th {\n",
       "        text-align: right;\n",
       "    }\n",
       "</style>\n",
       "<table border=\"1\" class=\"dataframe\">\n",
       "  <thead>\n",
       "    <tr style=\"text-align: right;\">\n",
       "      <th></th>\n",
       "      <th>user_location_latitude</th>\n",
       "      <th>user_location_longitude</th>\n",
       "      <th>anonymous_id</th>\n",
       "      <th>user_id</th>\n",
       "      <th>timestamp</th>\n",
       "    </tr>\n",
       "  </thead>\n",
       "  <tbody>\n",
       "    <tr>\n",
       "      <td>0</td>\n",
       "      <td>55.663360</td>\n",
       "      <td>12.563741</td>\n",
       "      <td>B755142C-DBAA-437A-818B-5358E2982D59</td>\n",
       "      <td>119409.0</td>\n",
       "      <td>2018-04-01 00:19:09.229</td>\n",
       "    </tr>\n",
       "    <tr>\n",
       "      <td>1</td>\n",
       "      <td>55.684639</td>\n",
       "      <td>12.553777</td>\n",
       "      <td>F6ADD77A-B26C-407B-BE83-78294FE80D0B</td>\n",
       "      <td>119568.0</td>\n",
       "      <td>2018-04-01 06:40:22.853</td>\n",
       "    </tr>\n",
       "    <tr>\n",
       "      <td>2</td>\n",
       "      <td>55.674647</td>\n",
       "      <td>12.559726</td>\n",
       "      <td>8A0521A3-0183-45F3-BF80-05DC01245205</td>\n",
       "      <td>112257.0</td>\n",
       "      <td>2018-04-01 06:49:29.184</td>\n",
       "    </tr>\n",
       "    <tr>\n",
       "      <td>3</td>\n",
       "      <td>55.705648</td>\n",
       "      <td>12.542835</td>\n",
       "      <td>3B38FBCA-4DB1-44A4-9DF4-5979B29FD6EA</td>\n",
       "      <td>NaN</td>\n",
       "      <td>2018-04-01 07:06:18.953</td>\n",
       "    </tr>\n",
       "    <tr>\n",
       "      <td>4</td>\n",
       "      <td>55.626786</td>\n",
       "      <td>12.576799</td>\n",
       "      <td>6221B6B0-FEA2-4A8D-8CB5-72BCC93B01A7</td>\n",
       "      <td>113593.0</td>\n",
       "      <td>2018-04-01 07:25:03.517</td>\n",
       "    </tr>\n",
       "    <tr>\n",
       "      <td>5</td>\n",
       "      <td>55.674814</td>\n",
       "      <td>12.559693</td>\n",
       "      <td>B1A013E2-692C-4B9F-B975-D7412B69E49C</td>\n",
       "      <td>116550.0</td>\n",
       "      <td>2018-04-01 07:26:22.414</td>\n",
       "    </tr>\n",
       "    <tr>\n",
       "      <td>6</td>\n",
       "      <td>55.667523</td>\n",
       "      <td>12.585956</td>\n",
       "      <td>4BDF423C-8F62-4DC5-B688-D84F1C92540F</td>\n",
       "      <td>NaN</td>\n",
       "      <td>2018-04-01 07:55:12.593</td>\n",
       "    </tr>\n",
       "    <tr>\n",
       "      <td>7</td>\n",
       "      <td>55.676079</td>\n",
       "      <td>12.573919</td>\n",
       "      <td>0983A326-140C-4837-ACC7-D94307071029</td>\n",
       "      <td>119203.0</td>\n",
       "      <td>2018-04-01 08:01:44.947</td>\n",
       "    </tr>\n",
       "    <tr>\n",
       "      <td>8</td>\n",
       "      <td>55.688612</td>\n",
       "      <td>12.562045</td>\n",
       "      <td>36062CE5-827F-4F68-B33D-F5CAAD6C5DFE</td>\n",
       "      <td>NaN</td>\n",
       "      <td>2018-04-01 08:06:36.777</td>\n",
       "    </tr>\n",
       "    <tr>\n",
       "      <td>9</td>\n",
       "      <td>55.688612</td>\n",
       "      <td>12.562045</td>\n",
       "      <td>36062CE5-827F-4F68-B33D-F5CAAD6C5DFE</td>\n",
       "      <td>119604.0</td>\n",
       "      <td>2018-04-01 08:10:51.799</td>\n",
       "    </tr>\n",
       "  </tbody>\n",
       "</table>\n",
       "</div>"
      ],
      "text/plain": [
       "   user_location_latitude  user_location_longitude  \\\n",
       "0               55.663360                12.563741   \n",
       "1               55.684639                12.553777   \n",
       "2               55.674647                12.559726   \n",
       "3               55.705648                12.542835   \n",
       "4               55.626786                12.576799   \n",
       "5               55.674814                12.559693   \n",
       "6               55.667523                12.585956   \n",
       "7               55.676079                12.573919   \n",
       "8               55.688612                12.562045   \n",
       "9               55.688612                12.562045   \n",
       "\n",
       "                           anonymous_id   user_id               timestamp  \n",
       "0  B755142C-DBAA-437A-818B-5358E2982D59  119409.0 2018-04-01 00:19:09.229  \n",
       "1  F6ADD77A-B26C-407B-BE83-78294FE80D0B  119568.0 2018-04-01 06:40:22.853  \n",
       "2  8A0521A3-0183-45F3-BF80-05DC01245205  112257.0 2018-04-01 06:49:29.184  \n",
       "3  3B38FBCA-4DB1-44A4-9DF4-5979B29FD6EA       NaN 2018-04-01 07:06:18.953  \n",
       "4  6221B6B0-FEA2-4A8D-8CB5-72BCC93B01A7  113593.0 2018-04-01 07:25:03.517  \n",
       "5  B1A013E2-692C-4B9F-B975-D7412B69E49C  116550.0 2018-04-01 07:26:22.414  \n",
       "6  4BDF423C-8F62-4DC5-B688-D84F1C92540F       NaN 2018-04-01 07:55:12.593  \n",
       "7  0983A326-140C-4837-ACC7-D94307071029  119203.0 2018-04-01 08:01:44.947  \n",
       "8  36062CE5-827F-4F68-B33D-F5CAAD6C5DFE       NaN 2018-04-01 08:06:36.777  \n",
       "9  36062CE5-827F-4F68-B33D-F5CAAD6C5DFE  119604.0 2018-04-01 08:10:51.799  "
      ]
     },
     "execution_count": 9,
     "metadata": {},
     "output_type": "execute_result"
    }
   ],
   "source": [
    "df_searchlog.head(10)"
   ]
  },
  {
   "cell_type": "markdown",
   "metadata": {},
   "source": [
    "4) *df_hubav*: represents the availability of bikes for every hub and how it evolved with time. In particular, at a certain timestamp \"created_at\", the bike count in a specific hub goes from the value in \"bike_count_from\" to the one in \"bike_count_to\". To give an example, if at a certain timestamp there has been a drop-off, and the previous availability of bikes was 8 (bike_count_from), then the new availability would be 9 (bike_count_to). \n",
    "\n",
    "This table also shows values for optimal and maximum capacity of bikes for every hub. It is already possible to notice some anamalous values in the data (i.e. 0 maximum capacity) which definitely need some further inspection..."
   ]
  },
  {
   "cell_type": "code",
   "execution_count": 10,
   "metadata": {},
   "outputs": [
    {
     "data": {
      "text/html": [
       "<div>\n",
       "<style scoped>\n",
       "    .dataframe tbody tr th:only-of-type {\n",
       "        vertical-align: middle;\n",
       "    }\n",
       "\n",
       "    .dataframe tbody tr th {\n",
       "        vertical-align: top;\n",
       "    }\n",
       "\n",
       "    .dataframe thead th {\n",
       "        text-align: right;\n",
       "    }\n",
       "</style>\n",
       "<table border=\"1\" class=\"dataframe\">\n",
       "  <thead>\n",
       "    <tr style=\"text-align: right;\">\n",
       "      <th></th>\n",
       "      <th>hub_id</th>\n",
       "      <th>bike_count_from</th>\n",
       "      <th>bike_count_to</th>\n",
       "      <th>created_at</th>\n",
       "      <th>optimal_capacity</th>\n",
       "      <th>maximum_capacity</th>\n",
       "    </tr>\n",
       "  </thead>\n",
       "  <tbody>\n",
       "    <tr>\n",
       "      <td>0</td>\n",
       "      <td>2529</td>\n",
       "      <td>9</td>\n",
       "      <td>10</td>\n",
       "      <td>2018-03-16 09:54:28.067837</td>\n",
       "      <td>10</td>\n",
       "      <td>20</td>\n",
       "    </tr>\n",
       "    <tr>\n",
       "      <td>1</td>\n",
       "      <td>2163</td>\n",
       "      <td>9</td>\n",
       "      <td>8</td>\n",
       "      <td>2018-10-09 14:20:41.388592</td>\n",
       "      <td>4</td>\n",
       "      <td>6</td>\n",
       "    </tr>\n",
       "    <tr>\n",
       "      <td>2</td>\n",
       "      <td>2358</td>\n",
       "      <td>9</td>\n",
       "      <td>10</td>\n",
       "      <td>2018-06-27 07:57:11.609790</td>\n",
       "      <td>3</td>\n",
       "      <td>3</td>\n",
       "    </tr>\n",
       "    <tr>\n",
       "      <td>3</td>\n",
       "      <td>152</td>\n",
       "      <td>9</td>\n",
       "      <td>8</td>\n",
       "      <td>2018-10-09 13:20:30.162299</td>\n",
       "      <td>4</td>\n",
       "      <td>6</td>\n",
       "    </tr>\n",
       "    <tr>\n",
       "      <td>4</td>\n",
       "      <td>1736</td>\n",
       "      <td>9</td>\n",
       "      <td>8</td>\n",
       "      <td>2018-06-21 09:15:06.729116</td>\n",
       "      <td>0</td>\n",
       "      <td>0</td>\n",
       "    </tr>\n",
       "    <tr>\n",
       "      <td>5</td>\n",
       "      <td>2165</td>\n",
       "      <td>9</td>\n",
       "      <td>8</td>\n",
       "      <td>2018-10-08 13:58:51.901203</td>\n",
       "      <td>4</td>\n",
       "      <td>4</td>\n",
       "    </tr>\n",
       "    <tr>\n",
       "      <td>6</td>\n",
       "      <td>2400</td>\n",
       "      <td>9</td>\n",
       "      <td>8</td>\n",
       "      <td>2018-05-26 14:14:29.632720</td>\n",
       "      <td>4</td>\n",
       "      <td>4</td>\n",
       "    </tr>\n",
       "    <tr>\n",
       "      <td>7</td>\n",
       "      <td>2161</td>\n",
       "      <td>9</td>\n",
       "      <td>8</td>\n",
       "      <td>2018-10-10 15:21:23.944951</td>\n",
       "      <td>0</td>\n",
       "      <td>6</td>\n",
       "    </tr>\n",
       "    <tr>\n",
       "      <td>8</td>\n",
       "      <td>1728</td>\n",
       "      <td>9</td>\n",
       "      <td>8</td>\n",
       "      <td>2018-06-29 06:06:26.773561</td>\n",
       "      <td>20</td>\n",
       "      <td>30</td>\n",
       "    </tr>\n",
       "    <tr>\n",
       "      <td>9</td>\n",
       "      <td>4155</td>\n",
       "      <td>9</td>\n",
       "      <td>10</td>\n",
       "      <td>2018-10-14 12:31:53.604268</td>\n",
       "      <td>4</td>\n",
       "      <td>6</td>\n",
       "    </tr>\n",
       "  </tbody>\n",
       "</table>\n",
       "</div>"
      ],
      "text/plain": [
       "   hub_id  bike_count_from  bike_count_to                 created_at  \\\n",
       "0    2529                9             10 2018-03-16 09:54:28.067837   \n",
       "1    2163                9              8 2018-10-09 14:20:41.388592   \n",
       "2    2358                9             10 2018-06-27 07:57:11.609790   \n",
       "3     152                9              8 2018-10-09 13:20:30.162299   \n",
       "4    1736                9              8 2018-06-21 09:15:06.729116   \n",
       "5    2165                9              8 2018-10-08 13:58:51.901203   \n",
       "6    2400                9              8 2018-05-26 14:14:29.632720   \n",
       "7    2161                9              8 2018-10-10 15:21:23.944951   \n",
       "8    1728                9              8 2018-06-29 06:06:26.773561   \n",
       "9    4155                9             10 2018-10-14 12:31:53.604268   \n",
       "\n",
       "   optimal_capacity  maximum_capacity  \n",
       "0                10                20  \n",
       "1                 4                 6  \n",
       "2                 3                 3  \n",
       "3                 4                 6  \n",
       "4                 0                 0  \n",
       "5                 4                 4  \n",
       "6                 4                 4  \n",
       "7                 0                 6  \n",
       "8                20                30  \n",
       "9                 4                 6  "
      ]
     },
     "execution_count": 10,
     "metadata": {},
     "output_type": "execute_result"
    }
   ],
   "source": [
    "df_hubav.head(10)"
   ]
  },
  {
   "cell_type": "markdown",
   "metadata": {},
   "source": [
    "Before going in more datail, here are some first general descriptions for the our four tables:"
   ]
  },
  {
   "cell_type": "code",
   "execution_count": 11,
   "metadata": {},
   "outputs": [
    {
     "data": {
      "text/html": [
       "<div>\n",
       "<style scoped>\n",
       "    .dataframe tbody tr th:only-of-type {\n",
       "        vertical-align: middle;\n",
       "    }\n",
       "\n",
       "    .dataframe tbody tr th {\n",
       "        vertical-align: top;\n",
       "    }\n",
       "\n",
       "    .dataframe thead th {\n",
       "        text-align: right;\n",
       "    }\n",
       "</style>\n",
       "<table border=\"1\" class=\"dataframe\">\n",
       "  <thead>\n",
       "    <tr style=\"text-align: right;\">\n",
       "      <th></th>\n",
       "      <th>pickup_hub_id</th>\n",
       "      <th>dropoff_hub_id</th>\n",
       "      <th>user_id</th>\n",
       "    </tr>\n",
       "  </thead>\n",
       "  <tbody>\n",
       "    <tr>\n",
       "      <td>count</td>\n",
       "      <td>279860.000000</td>\n",
       "      <td>261293.000000</td>\n",
       "      <td>279860.000000</td>\n",
       "    </tr>\n",
       "    <tr>\n",
       "      <td>mean</td>\n",
       "      <td>2968.636633</td>\n",
       "      <td>2994.720494</td>\n",
       "      <td>225811.069831</td>\n",
       "    </tr>\n",
       "    <tr>\n",
       "      <td>std</td>\n",
       "      <td>1474.514389</td>\n",
       "      <td>1483.243813</td>\n",
       "      <td>79155.081485</td>\n",
       "    </tr>\n",
       "    <tr>\n",
       "      <td>min</td>\n",
       "      <td>49.000000</td>\n",
       "      <td>49.000000</td>\n",
       "      <td>1.000000</td>\n",
       "    </tr>\n",
       "    <tr>\n",
       "      <td>25%</td>\n",
       "      <td>2178.000000</td>\n",
       "      <td>2180.000000</td>\n",
       "      <td>162493.000000</td>\n",
       "    </tr>\n",
       "    <tr>\n",
       "      <td>50%</td>\n",
       "      <td>2413.000000</td>\n",
       "      <td>2431.000000</td>\n",
       "      <td>232322.000000</td>\n",
       "    </tr>\n",
       "    <tr>\n",
       "      <td>75%</td>\n",
       "      <td>3543.000000</td>\n",
       "      <td>3730.000000</td>\n",
       "      <td>293800.000000</td>\n",
       "    </tr>\n",
       "    <tr>\n",
       "      <td>max</td>\n",
       "      <td>7521.000000</td>\n",
       "      <td>7521.000000</td>\n",
       "      <td>357173.000000</td>\n",
       "    </tr>\n",
       "  </tbody>\n",
       "</table>\n",
       "</div>"
      ],
      "text/plain": [
       "       pickup_hub_id  dropoff_hub_id        user_id\n",
       "count  279860.000000   261293.000000  279860.000000\n",
       "mean     2968.636633     2994.720494  225811.069831\n",
       "std      1474.514389     1483.243813   79155.081485\n",
       "min        49.000000       49.000000       1.000000\n",
       "25%      2178.000000     2180.000000  162493.000000\n",
       "50%      2413.000000     2431.000000  232322.000000\n",
       "75%      3543.000000     3730.000000  293800.000000\n",
       "max      7521.000000     7521.000000  357173.000000"
      ]
     },
     "execution_count": 11,
     "metadata": {},
     "output_type": "execute_result"
    }
   ],
   "source": [
    "df_rentals.describe()"
   ]
  },
  {
   "cell_type": "code",
   "execution_count": 12,
   "metadata": {},
   "outputs": [
    {
     "data": {
      "text/html": [
       "<div>\n",
       "<style scoped>\n",
       "    .dataframe tbody tr th:only-of-type {\n",
       "        vertical-align: middle;\n",
       "    }\n",
       "\n",
       "    .dataframe tbody tr th {\n",
       "        vertical-align: top;\n",
       "    }\n",
       "\n",
       "    .dataframe thead th {\n",
       "        text-align: right;\n",
       "    }\n",
       "</style>\n",
       "<table border=\"1\" class=\"dataframe\">\n",
       "  <thead>\n",
       "    <tr style=\"text-align: right;\">\n",
       "      <th></th>\n",
       "      <th>latitude</th>\n",
       "      <th>longitude</th>\n",
       "      <th>id</th>\n",
       "    </tr>\n",
       "  </thead>\n",
       "  <tbody>\n",
       "    <tr>\n",
       "      <td>count</td>\n",
       "      <td>1266.000000</td>\n",
       "      <td>1266.000000</td>\n",
       "      <td>1266.000000</td>\n",
       "    </tr>\n",
       "    <tr>\n",
       "      <td>mean</td>\n",
       "      <td>55.500556</td>\n",
       "      <td>12.462749</td>\n",
       "      <td>4522.648499</td>\n",
       "    </tr>\n",
       "    <tr>\n",
       "      <td>std</td>\n",
       "      <td>2.762811</td>\n",
       "      <td>1.040837</td>\n",
       "      <td>1893.527454</td>\n",
       "    </tr>\n",
       "    <tr>\n",
       "      <td>min</td>\n",
       "      <td>0.000000</td>\n",
       "      <td>0.000000</td>\n",
       "      <td>49.000000</td>\n",
       "    </tr>\n",
       "    <tr>\n",
       "      <td>25%</td>\n",
       "      <td>55.664906</td>\n",
       "      <td>12.540773</td>\n",
       "      <td>2521.250000</td>\n",
       "    </tr>\n",
       "    <tr>\n",
       "      <td>50%</td>\n",
       "      <td>55.678197</td>\n",
       "      <td>12.566305</td>\n",
       "      <td>4945.000000</td>\n",
       "    </tr>\n",
       "    <tr>\n",
       "      <td>75%</td>\n",
       "      <td>55.693147</td>\n",
       "      <td>12.586798</td>\n",
       "      <td>6250.750000</td>\n",
       "    </tr>\n",
       "    <tr>\n",
       "      <td>max</td>\n",
       "      <td>55.789469</td>\n",
       "      <td>12.650923</td>\n",
       "      <td>7419.000000</td>\n",
       "    </tr>\n",
       "  </tbody>\n",
       "</table>\n",
       "</div>"
      ],
      "text/plain": [
       "          latitude    longitude           id\n",
       "count  1266.000000  1266.000000  1266.000000\n",
       "mean     55.500556    12.462749  4522.648499\n",
       "std       2.762811     1.040837  1893.527454\n",
       "min       0.000000     0.000000    49.000000\n",
       "25%      55.664906    12.540773  2521.250000\n",
       "50%      55.678197    12.566305  4945.000000\n",
       "75%      55.693147    12.586798  6250.750000\n",
       "max      55.789469    12.650923  7419.000000"
      ]
     },
     "execution_count": 12,
     "metadata": {},
     "output_type": "execute_result"
    }
   ],
   "source": [
    "df_hubs.describe()"
   ]
  },
  {
   "cell_type": "code",
   "execution_count": 13,
   "metadata": {},
   "outputs": [
    {
     "data": {
      "text/html": [
       "<div>\n",
       "<style scoped>\n",
       "    .dataframe tbody tr th:only-of-type {\n",
       "        vertical-align: middle;\n",
       "    }\n",
       "\n",
       "    .dataframe tbody tr th {\n",
       "        vertical-align: top;\n",
       "    }\n",
       "\n",
       "    .dataframe thead th {\n",
       "        text-align: right;\n",
       "    }\n",
       "</style>\n",
       "<table border=\"1\" class=\"dataframe\">\n",
       "  <thead>\n",
       "    <tr style=\"text-align: right;\">\n",
       "      <th></th>\n",
       "      <th>user_location_latitude</th>\n",
       "      <th>user_location_longitude</th>\n",
       "      <th>user_id</th>\n",
       "    </tr>\n",
       "  </thead>\n",
       "  <tbody>\n",
       "    <tr>\n",
       "      <td>count</td>\n",
       "      <td>1.054525e+06</td>\n",
       "      <td>1.054525e+06</td>\n",
       "      <td>839654.000000</td>\n",
       "    </tr>\n",
       "    <tr>\n",
       "      <td>mean</td>\n",
       "      <td>5.567888e+01</td>\n",
       "      <td>1.256690e+01</td>\n",
       "      <td>210313.372032</td>\n",
       "    </tr>\n",
       "    <tr>\n",
       "      <td>std</td>\n",
       "      <td>1.999616e-02</td>\n",
       "      <td>3.039608e-02</td>\n",
       "      <td>78701.220294</td>\n",
       "    </tr>\n",
       "    <tr>\n",
       "      <td>min</td>\n",
       "      <td>5.556344e+01</td>\n",
       "      <td>1.234982e+01</td>\n",
       "      <td>-1.000000</td>\n",
       "    </tr>\n",
       "    <tr>\n",
       "      <td>25%</td>\n",
       "      <td>5.566933e+01</td>\n",
       "      <td>1.255142e+01</td>\n",
       "      <td>146528.000000</td>\n",
       "    </tr>\n",
       "    <tr>\n",
       "      <td>50%</td>\n",
       "      <td>5.567814e+01</td>\n",
       "      <td>1.256913e+01</td>\n",
       "      <td>207102.000000</td>\n",
       "    </tr>\n",
       "    <tr>\n",
       "      <td>75%</td>\n",
       "      <td>5.568794e+01</td>\n",
       "      <td>1.258502e+01</td>\n",
       "      <td>273023.000000</td>\n",
       "    </tr>\n",
       "    <tr>\n",
       "      <td>max</td>\n",
       "      <td>5.581406e+01</td>\n",
       "      <td>1.282249e+01</td>\n",
       "      <td>356934.000000</td>\n",
       "    </tr>\n",
       "  </tbody>\n",
       "</table>\n",
       "</div>"
      ],
      "text/plain": [
       "       user_location_latitude  user_location_longitude        user_id\n",
       "count            1.054525e+06             1.054525e+06  839654.000000\n",
       "mean             5.567888e+01             1.256690e+01  210313.372032\n",
       "std              1.999616e-02             3.039608e-02   78701.220294\n",
       "min              5.556344e+01             1.234982e+01      -1.000000\n",
       "25%              5.566933e+01             1.255142e+01  146528.000000\n",
       "50%              5.567814e+01             1.256913e+01  207102.000000\n",
       "75%              5.568794e+01             1.258502e+01  273023.000000\n",
       "max              5.581406e+01             1.282249e+01  356934.000000"
      ]
     },
     "execution_count": 13,
     "metadata": {},
     "output_type": "execute_result"
    }
   ],
   "source": [
    "df_searchlog.describe()"
   ]
  },
  {
   "cell_type": "code",
   "execution_count": 14,
   "metadata": {},
   "outputs": [
    {
     "data": {
      "text/html": [
       "<div>\n",
       "<style scoped>\n",
       "    .dataframe tbody tr th:only-of-type {\n",
       "        vertical-align: middle;\n",
       "    }\n",
       "\n",
       "    .dataframe tbody tr th {\n",
       "        vertical-align: top;\n",
       "    }\n",
       "\n",
       "    .dataframe thead th {\n",
       "        text-align: right;\n",
       "    }\n",
       "</style>\n",
       "<table border=\"1\" class=\"dataframe\">\n",
       "  <thead>\n",
       "    <tr style=\"text-align: right;\">\n",
       "      <th></th>\n",
       "      <th>hub_id</th>\n",
       "      <th>bike_count_from</th>\n",
       "      <th>bike_count_to</th>\n",
       "      <th>optimal_capacity</th>\n",
       "      <th>maximum_capacity</th>\n",
       "    </tr>\n",
       "  </thead>\n",
       "  <tbody>\n",
       "    <tr>\n",
       "      <td>count</td>\n",
       "      <td>825757.000000</td>\n",
       "      <td>825757.000000</td>\n",
       "      <td>825757.000000</td>\n",
       "      <td>825757.000000</td>\n",
       "      <td>825757.000000</td>\n",
       "    </tr>\n",
       "    <tr>\n",
       "      <td>mean</td>\n",
       "      <td>2976.156298</td>\n",
       "      <td>1.926315</td>\n",
       "      <td>1.940990</td>\n",
       "      <td>3.094558</td>\n",
       "      <td>4.566334</td>\n",
       "    </tr>\n",
       "    <tr>\n",
       "      <td>std</td>\n",
       "      <td>1480.907192</td>\n",
       "      <td>1.758047</td>\n",
       "      <td>1.760766</td>\n",
       "      <td>7.160294</td>\n",
       "      <td>7.042641</td>\n",
       "    </tr>\n",
       "    <tr>\n",
       "      <td>min</td>\n",
       "      <td>49.000000</td>\n",
       "      <td>0.000000</td>\n",
       "      <td>0.000000</td>\n",
       "      <td>0.000000</td>\n",
       "      <td>0.000000</td>\n",
       "    </tr>\n",
       "    <tr>\n",
       "      <td>25%</td>\n",
       "      <td>2177.000000</td>\n",
       "      <td>1.000000</td>\n",
       "      <td>1.000000</td>\n",
       "      <td>2.000000</td>\n",
       "      <td>3.000000</td>\n",
       "    </tr>\n",
       "    <tr>\n",
       "      <td>50%</td>\n",
       "      <td>2428.000000</td>\n",
       "      <td>2.000000</td>\n",
       "      <td>2.000000</td>\n",
       "      <td>3.000000</td>\n",
       "      <td>4.000000</td>\n",
       "    </tr>\n",
       "    <tr>\n",
       "      <td>75%</td>\n",
       "      <td>3665.000000</td>\n",
       "      <td>3.000000</td>\n",
       "      <td>3.000000</td>\n",
       "      <td>4.000000</td>\n",
       "      <td>6.000000</td>\n",
       "    </tr>\n",
       "    <tr>\n",
       "      <td>max</td>\n",
       "      <td>7549.000000</td>\n",
       "      <td>42.000000</td>\n",
       "      <td>42.000000</td>\n",
       "      <td>260.000000</td>\n",
       "      <td>250.000000</td>\n",
       "    </tr>\n",
       "  </tbody>\n",
       "</table>\n",
       "</div>"
      ],
      "text/plain": [
       "              hub_id  bike_count_from  bike_count_to  optimal_capacity  \\\n",
       "count  825757.000000    825757.000000  825757.000000     825757.000000   \n",
       "mean     2976.156298         1.926315       1.940990          3.094558   \n",
       "std      1480.907192         1.758047       1.760766          7.160294   \n",
       "min        49.000000         0.000000       0.000000          0.000000   \n",
       "25%      2177.000000         1.000000       1.000000          2.000000   \n",
       "50%      2428.000000         2.000000       2.000000          3.000000   \n",
       "75%      3665.000000         3.000000       3.000000          4.000000   \n",
       "max      7549.000000        42.000000      42.000000        260.000000   \n",
       "\n",
       "       maximum_capacity  \n",
       "count     825757.000000  \n",
       "mean           4.566334  \n",
       "std            7.042641  \n",
       "min            0.000000  \n",
       "25%            3.000000  \n",
       "50%            4.000000  \n",
       "75%            6.000000  \n",
       "max          250.000000  "
      ]
     },
     "execution_count": 14,
     "metadata": {},
     "output_type": "execute_result"
    }
   ],
   "source": [
    "df_hubav.describe()"
   ]
  },
  {
   "cell_type": "markdown",
   "metadata": {},
   "source": [
    "----------------------------------"
   ]
  },
  {
   "cell_type": "markdown",
   "metadata": {},
   "source": [
    "## Hubs"
   ]
  },
  {
   "cell_type": "markdown",
   "metadata": {},
   "source": [
    "In what follows we aim at visualizing on the map of Copenhagen all the existing (and deleted) hubs in our dataset. In order to do this we first need to differentiate between the still existing-hubs and the deleted ones:"
   ]
  },
  {
   "cell_type": "code",
   "execution_count": 15,
   "metadata": {},
   "outputs": [],
   "source": [
    "# Centered location (latitude, longitude) which we will use in all our following plots\n",
    "initial_location = [55.6775757, 12.579571639999999]"
   ]
  },
  {
   "cell_type": "code",
   "execution_count": 16,
   "metadata": {},
   "outputs": [],
   "source": [
    "df_deleted_hubs = df_hubs.where(pd.notna(df_hubs.deleted_at) == True).dropna()"
   ]
  },
  {
   "cell_type": "code",
   "execution_count": 17,
   "metadata": {},
   "outputs": [
    {
     "data": {
      "text/html": [
       "<div>\n",
       "<style scoped>\n",
       "    .dataframe tbody tr th:only-of-type {\n",
       "        vertical-align: middle;\n",
       "    }\n",
       "\n",
       "    .dataframe tbody tr th {\n",
       "        vertical-align: top;\n",
       "    }\n",
       "\n",
       "    .dataframe thead th {\n",
       "        text-align: right;\n",
       "    }\n",
       "</style>\n",
       "<table border=\"1\" class=\"dataframe\">\n",
       "  <thead>\n",
       "    <tr style=\"text-align: right;\">\n",
       "      <th></th>\n",
       "      <th>created_at</th>\n",
       "      <th>latitude</th>\n",
       "      <th>longitude</th>\n",
       "      <th>id</th>\n",
       "      <th>name</th>\n",
       "      <th>deleted_at</th>\n",
       "    </tr>\n",
       "  </thead>\n",
       "  <tbody>\n",
       "    <tr>\n",
       "      <td>0</td>\n",
       "      <td>2018-05-21 09:35:00.697175</td>\n",
       "      <td>48.864936</td>\n",
       "      <td>2.310624</td>\n",
       "      <td>3268.0</td>\n",
       "      <td>Cours la Reine</td>\n",
       "      <td>2018-05-21 16:17:24.722283</td>\n",
       "    </tr>\n",
       "    <tr>\n",
       "      <td>2</td>\n",
       "      <td>2018-06-05 12:12:28.639837</td>\n",
       "      <td>55.676916</td>\n",
       "      <td>12.564896</td>\n",
       "      <td>3642.0</td>\n",
       "      <td>Concert Hall Pumpehuset</td>\n",
       "      <td>2018-11-15 10:45:34.468962</td>\n",
       "    </tr>\n",
       "    <tr>\n",
       "      <td>16</td>\n",
       "      <td>2018-01-22 15:47:39.318344</td>\n",
       "      <td>55.690060</td>\n",
       "      <td>12.554953</td>\n",
       "      <td>2378.0</td>\n",
       "      <td>Solitudvej</td>\n",
       "      <td>2018-12-03 15:52:51.137800</td>\n",
       "    </tr>\n",
       "    <tr>\n",
       "      <td>19</td>\n",
       "      <td>2018-04-15 09:19:30.266989</td>\n",
       "      <td>55.683848</td>\n",
       "      <td>12.562526</td>\n",
       "      <td>2850.0</td>\n",
       "      <td>Finsensvej</td>\n",
       "      <td>2018-11-07 14:29:06.066021</td>\n",
       "    </tr>\n",
       "    <tr>\n",
       "      <td>21</td>\n",
       "      <td>2017-07-05 08:47:19.611345</td>\n",
       "      <td>55.686668</td>\n",
       "      <td>12.585904</td>\n",
       "      <td>1521.0</td>\n",
       "      <td>Adelgade</td>\n",
       "      <td>2018-12-12 18:28:38.467796</td>\n",
       "    </tr>\n",
       "    <tr>\n",
       "      <td>22</td>\n",
       "      <td>2018-08-13 08:41:59.812525</td>\n",
       "      <td>55.679776</td>\n",
       "      <td>12.591652</td>\n",
       "      <td>5202.0</td>\n",
       "      <td>Nyhavn 49</td>\n",
       "      <td>2018-09-07 14:09:12.782407</td>\n",
       "    </tr>\n",
       "    <tr>\n",
       "      <td>30</td>\n",
       "      <td>2018-07-11 11:42:08.466632</td>\n",
       "      <td>55.678256</td>\n",
       "      <td>12.602834</td>\n",
       "      <td>4791.0</td>\n",
       "      <td>Halvtolv</td>\n",
       "      <td>2018-07-27 11:30:36.790366</td>\n",
       "    </tr>\n",
       "    <tr>\n",
       "      <td>39</td>\n",
       "      <td>2018-11-13 10:32:50.794717</td>\n",
       "      <td>55.673889</td>\n",
       "      <td>12.589137</td>\n",
       "      <td>6262.0</td>\n",
       "      <td>Strandgade Temp</td>\n",
       "      <td>2018-12-19 09:37:34.661184</td>\n",
       "    </tr>\n",
       "    <tr>\n",
       "      <td>44</td>\n",
       "      <td>2018-01-22 15:58:22.227920</td>\n",
       "      <td>55.686211</td>\n",
       "      <td>12.561416</td>\n",
       "      <td>2383.0</td>\n",
       "      <td>Peblinge Dossering</td>\n",
       "      <td>2018-11-15 10:54:37.329441</td>\n",
       "    </tr>\n",
       "    <tr>\n",
       "      <td>47</td>\n",
       "      <td>2018-06-21 12:54:38.647923</td>\n",
       "      <td>55.697299</td>\n",
       "      <td>12.557030</td>\n",
       "      <td>4056.0</td>\n",
       "      <td>NÃ¸ddebogade</td>\n",
       "      <td>2018-11-15 11:52:11.962632</td>\n",
       "    </tr>\n",
       "  </tbody>\n",
       "</table>\n",
       "</div>"
      ],
      "text/plain": [
       "                   created_at   latitude  longitude      id  \\\n",
       "0  2018-05-21 09:35:00.697175  48.864936   2.310624  3268.0   \n",
       "2  2018-06-05 12:12:28.639837  55.676916  12.564896  3642.0   \n",
       "16 2018-01-22 15:47:39.318344  55.690060  12.554953  2378.0   \n",
       "19 2018-04-15 09:19:30.266989  55.683848  12.562526  2850.0   \n",
       "21 2017-07-05 08:47:19.611345  55.686668  12.585904  1521.0   \n",
       "22 2018-08-13 08:41:59.812525  55.679776  12.591652  5202.0   \n",
       "30 2018-07-11 11:42:08.466632  55.678256  12.602834  4791.0   \n",
       "39 2018-11-13 10:32:50.794717  55.673889  12.589137  6262.0   \n",
       "44 2018-01-22 15:58:22.227920  55.686211  12.561416  2383.0   \n",
       "47 2018-06-21 12:54:38.647923  55.697299  12.557030  4056.0   \n",
       "\n",
       "                       name                 deleted_at  \n",
       "0            Cours la Reine 2018-05-21 16:17:24.722283  \n",
       "2   Concert Hall Pumpehuset 2018-11-15 10:45:34.468962  \n",
       "16               Solitudvej 2018-12-03 15:52:51.137800  \n",
       "19               Finsensvej 2018-11-07 14:29:06.066021  \n",
       "21                 Adelgade 2018-12-12 18:28:38.467796  \n",
       "22                Nyhavn 49 2018-09-07 14:09:12.782407  \n",
       "30                 Halvtolv 2018-07-27 11:30:36.790366  \n",
       "39          Strandgade Temp 2018-12-19 09:37:34.661184  \n",
       "44       Peblinge Dossering 2018-11-15 10:54:37.329441  \n",
       "47             NÃ¸ddebogade 2018-11-15 11:52:11.962632  "
      ]
     },
     "execution_count": 17,
     "metadata": {},
     "output_type": "execute_result"
    }
   ],
   "source": [
    "df_deleted_hubs.head(10)"
   ]
  },
  {
   "cell_type": "code",
   "execution_count": 18,
   "metadata": {},
   "outputs": [],
   "source": [
    "df_existing_hubs = df_hubs.where(pd.notna(df_hubs.deleted_at) == False).dropna(how='all')"
   ]
  },
  {
   "cell_type": "code",
   "execution_count": 19,
   "metadata": {},
   "outputs": [
    {
     "data": {
      "text/html": [
       "<div>\n",
       "<style scoped>\n",
       "    .dataframe tbody tr th:only-of-type {\n",
       "        vertical-align: middle;\n",
       "    }\n",
       "\n",
       "    .dataframe tbody tr th {\n",
       "        vertical-align: top;\n",
       "    }\n",
       "\n",
       "    .dataframe thead th {\n",
       "        text-align: right;\n",
       "    }\n",
       "</style>\n",
       "<table border=\"1\" class=\"dataframe\">\n",
       "  <thead>\n",
       "    <tr style=\"text-align: right;\">\n",
       "      <th></th>\n",
       "      <th>created_at</th>\n",
       "      <th>latitude</th>\n",
       "      <th>longitude</th>\n",
       "      <th>id</th>\n",
       "      <th>name</th>\n",
       "      <th>deleted_at</th>\n",
       "    </tr>\n",
       "  </thead>\n",
       "  <tbody>\n",
       "    <tr>\n",
       "      <td>1</td>\n",
       "      <td>2018-11-26 09:06:05.590590</td>\n",
       "      <td>55.695252</td>\n",
       "      <td>12.547185</td>\n",
       "      <td>6367.0</td>\n",
       "      <td>Heinesgade</td>\n",
       "      <td>NaT</td>\n",
       "    </tr>\n",
       "    <tr>\n",
       "      <td>3</td>\n",
       "      <td>2018-05-28 20:07:34.173984</td>\n",
       "      <td>55.668700</td>\n",
       "      <td>12.551114</td>\n",
       "      <td>3526.0</td>\n",
       "      <td>Saxogade</td>\n",
       "      <td>NaT</td>\n",
       "    </tr>\n",
       "    <tr>\n",
       "      <td>4</td>\n",
       "      <td>2018-11-08 09:36:50.440822</td>\n",
       "      <td>55.699557</td>\n",
       "      <td>12.515065</td>\n",
       "      <td>6233.0</td>\n",
       "      <td>GrÃ¸ndal Multicenter</td>\n",
       "      <td>NaT</td>\n",
       "    </tr>\n",
       "    <tr>\n",
       "      <td>5</td>\n",
       "      <td>2018-01-16 19:05:49.192033</td>\n",
       "      <td>55.682669</td>\n",
       "      <td>12.577611</td>\n",
       "      <td>2350.0</td>\n",
       "      <td>Egmont</td>\n",
       "      <td>NaT</td>\n",
       "    </tr>\n",
       "    <tr>\n",
       "      <td>6</td>\n",
       "      <td>2018-01-09 14:53:52.744834</td>\n",
       "      <td>55.668653</td>\n",
       "      <td>12.543646</td>\n",
       "      <td>2276.0</td>\n",
       "      <td>Vega</td>\n",
       "      <td>NaT</td>\n",
       "    </tr>\n",
       "    <tr>\n",
       "      <td>7</td>\n",
       "      <td>2019-03-14 11:39:00.814359</td>\n",
       "      <td>55.697218</td>\n",
       "      <td>12.584605</td>\n",
       "      <td>7148.0</td>\n",
       "      <td>SÃ¸nderborggade</td>\n",
       "      <td>NaT</td>\n",
       "    </tr>\n",
       "    <tr>\n",
       "      <td>8</td>\n",
       "      <td>2018-07-22 15:03:16.438551</td>\n",
       "      <td>55.669671</td>\n",
       "      <td>12.545824</td>\n",
       "      <td>4947.0</td>\n",
       "      <td>MatthÃ¦usgade</td>\n",
       "      <td>NaT</td>\n",
       "    </tr>\n",
       "    <tr>\n",
       "      <td>9</td>\n",
       "      <td>2019-03-20 13:50:30.943318</td>\n",
       "      <td>55.678997</td>\n",
       "      <td>12.586016</td>\n",
       "      <td>7316.0</td>\n",
       "      <td>Kongens Nytorv</td>\n",
       "      <td>NaT</td>\n",
       "    </tr>\n",
       "    <tr>\n",
       "      <td>10</td>\n",
       "      <td>2018-01-12 10:51:37.354963</td>\n",
       "      <td>55.656739</td>\n",
       "      <td>12.588744</td>\n",
       "      <td>2288.0</td>\n",
       "      <td>DR Byen</td>\n",
       "      <td>NaT</td>\n",
       "    </tr>\n",
       "    <tr>\n",
       "      <td>11</td>\n",
       "      <td>2018-08-17 13:07:30.532426</td>\n",
       "      <td>55.646583</td>\n",
       "      <td>12.529995</td>\n",
       "      <td>5252.0</td>\n",
       "      <td>Sydhavn Teater</td>\n",
       "      <td>NaT</td>\n",
       "    </tr>\n",
       "  </tbody>\n",
       "</table>\n",
       "</div>"
      ],
      "text/plain": [
       "                   created_at   latitude  longitude      id  \\\n",
       "1  2018-11-26 09:06:05.590590  55.695252  12.547185  6367.0   \n",
       "3  2018-05-28 20:07:34.173984  55.668700  12.551114  3526.0   \n",
       "4  2018-11-08 09:36:50.440822  55.699557  12.515065  6233.0   \n",
       "5  2018-01-16 19:05:49.192033  55.682669  12.577611  2350.0   \n",
       "6  2018-01-09 14:53:52.744834  55.668653  12.543646  2276.0   \n",
       "7  2019-03-14 11:39:00.814359  55.697218  12.584605  7148.0   \n",
       "8  2018-07-22 15:03:16.438551  55.669671  12.545824  4947.0   \n",
       "9  2019-03-20 13:50:30.943318  55.678997  12.586016  7316.0   \n",
       "10 2018-01-12 10:51:37.354963  55.656739  12.588744  2288.0   \n",
       "11 2018-08-17 13:07:30.532426  55.646583  12.529995  5252.0   \n",
       "\n",
       "                    name deleted_at  \n",
       "1             Heinesgade        NaT  \n",
       "3               Saxogade        NaT  \n",
       "4   GrÃ¸ndal Multicenter        NaT  \n",
       "5                 Egmont        NaT  \n",
       "6                   Vega        NaT  \n",
       "7        SÃ¸nderborggade        NaT  \n",
       "8          MatthÃ¦usgade        NaT  \n",
       "9         Kongens Nytorv        NaT  \n",
       "10               DR Byen        NaT  \n",
       "11        Sydhavn Teater        NaT  "
      ]
     },
     "execution_count": 19,
     "metadata": {},
     "output_type": "execute_result"
    }
   ],
   "source": [
    "df_existing_hubs.head(10)"
   ]
  },
  {
   "cell_type": "markdown",
   "metadata": {},
   "source": [
    "Ok, so now we are ready to plot the hubs on the map differentiating the existing (in blue) from the deleted (in red) "
   ]
  },
  {
   "cell_type": "code",
   "execution_count": 20,
   "metadata": {},
   "outputs": [],
   "source": [
    "# Getting latitude-longitude locations for all the hubs\n",
    "existing_locations = df_existing_hubs.iloc[:, 1:3].values.tolist()\n",
    "del_hub_locations = df_deleted_hubs.iloc[:, 1:3].values.tolist()"
   ]
  },
  {
   "cell_type": "code",
   "execution_count": 21,
   "metadata": {},
   "outputs": [
    {
     "ename": "NameError",
     "evalue": "name 'folium' is not defined",
     "output_type": "error",
     "traceback": [
      "\u001b[1;31m---------------------------------------------------------------------------\u001b[0m",
      "\u001b[1;31mNameError\u001b[0m                                 Traceback (most recent call last)",
      "\u001b[1;32m<ipython-input-21-a3787caa5821>\u001b[0m in \u001b[0;36m<module>\u001b[1;34m\u001b[0m\n\u001b[1;32m----> 1\u001b[1;33m \u001b[0mhub_map\u001b[0m \u001b[1;33m=\u001b[0m \u001b[0mfolium\u001b[0m\u001b[1;33m.\u001b[0m\u001b[0mMap\u001b[0m\u001b[1;33m(\u001b[0m\u001b[0mlocation\u001b[0m\u001b[1;33m=\u001b[0m\u001b[0minitial_location\u001b[0m\u001b[1;33m,\u001b[0m \u001b[0mzoom_start\u001b[0m\u001b[1;33m=\u001b[0m\u001b[1;36m13\u001b[0m\u001b[1;33m)\u001b[0m\u001b[1;33m\u001b[0m\u001b[1;33m\u001b[0m\u001b[0m\n\u001b[0m\u001b[0;32m      2\u001b[0m \u001b[1;33m\u001b[0m\u001b[0m\n\u001b[0;32m      3\u001b[0m \u001b[1;32mfor\u001b[0m \u001b[0mpoint\u001b[0m \u001b[1;32min\u001b[0m \u001b[0mrange\u001b[0m\u001b[1;33m(\u001b[0m\u001b[1;36m0\u001b[0m\u001b[1;33m,\u001b[0m \u001b[0mlen\u001b[0m\u001b[1;33m(\u001b[0m\u001b[0mexisting_locations\u001b[0m\u001b[1;33m)\u001b[0m\u001b[1;33m)\u001b[0m\u001b[1;33m:\u001b[0m\u001b[1;33m\u001b[0m\u001b[1;33m\u001b[0m\u001b[0m\n\u001b[0;32m      4\u001b[0m     folium.CircleMarker(\n\u001b[0;32m      5\u001b[0m     \u001b[0mlocation\u001b[0m\u001b[1;33m=\u001b[0m\u001b[0mexisting_locations\u001b[0m\u001b[1;33m[\u001b[0m\u001b[0mpoint\u001b[0m\u001b[1;33m]\u001b[0m\u001b[1;33m,\u001b[0m\u001b[1;33m\u001b[0m\u001b[1;33m\u001b[0m\u001b[0m\n",
      "\u001b[1;31mNameError\u001b[0m: name 'folium' is not defined"
     ]
    }
   ],
   "source": [
    "hub_map = folium.Map(location=initial_location, zoom_start=13)\n",
    "\n",
    "for point in range(0, len(existing_locations)):\n",
    "    folium.CircleMarker(\n",
    "    location=existing_locations[point],\n",
    "    radius=3,\n",
    "    popup='Hub_{}'.format(df_existing_hubs.iloc[point, 3]),\n",
    "    color='#3186cc',\n",
    "    fill=True,\n",
    "    fill_color='#3186cc').add_to(hub_map)\n",
    "    \n",
    "for point in range(0, len(del_hub_locations)):\n",
    "    folium.CircleMarker(\n",
    "    location=del_hub_locations[point],\n",
    "    radius=3,\n",
    "    popup='Hub_{}'.format(df_deleted_hubs.iloc[point, 3]),\n",
    "    color='crimson',\n",
    "    fill=True,\n",
    "    fill_color='crimson').add_to(hub_map)\n",
    "    \n",
    "hub_map"
   ]
  },
  {
   "cell_type": "markdown",
   "metadata": {},
   "source": [
    "<br>"
   ]
  },
  {
   "cell_type": "markdown",
   "metadata": {},
   "source": [
    "-----------------"
   ]
  },
  {
   "cell_type": "markdown",
   "metadata": {},
   "source": [
    "## Rentals"
   ]
  },
  {
   "cell_type": "markdown",
   "metadata": {},
   "source": [
    "Being our goal the prediction of bike demand in the various hubs, the \"Rentals\" DataFrame definitely plays a central role. This will be the source of our observed demand in each hub. As we have seen above, this dataset is for now missing any kind of aggregation, meaning that our bike rentals are only recorded as individual instances on the timeline of our data.\n",
    "\n",
    "This definitely leaves a lot of space for modeling: we could choose to aggregate our data at different levels (e.g. we could count the rentals for every hour/day/week/month). Obviously this depends on what is the type of decisions we want to take after having extracted information from our data. In our case, the decision will mostly have (at least initially) an operational level i.e. short-medium term. Therefore we are naturally more interested in a higher granularity of our data. \n",
    "\n",
    "For example, the following plots regard the daily time-series of pick-ups in a specific hub (Hub #60).\n",
    "\n",
    "(before actually being able to plot our data we must fill in a \"0\" value for all those days where we don't have any recorded rental, in what follows we construct a DataFrame df_hub_60 which has the complete time series of pick-ups in Hub #60)"
   ]
  },
  {
   "cell_type": "code",
   "execution_count": 22,
   "metadata": {},
   "outputs": [
    {
     "data": {
      "text/plain": [
       "DatetimeIndex(['2018-03-04', '2018-03-05', '2018-03-06', '2018-03-07',\n",
       "               '2018-03-08', '2018-03-09', '2018-03-10', '2018-03-11',\n",
       "               '2018-03-12', '2018-03-13',\n",
       "               ...\n",
       "               '2019-03-24', '2019-03-25', '2019-03-26', '2019-03-27',\n",
       "               '2019-03-28', '2019-03-29', '2019-03-30', '2019-03-31',\n",
       "               '2019-04-01', '2019-04-02'],\n",
       "              dtype='datetime64[ns]', length=395, freq='D')"
      ]
     },
     "execution_count": 22,
     "metadata": {},
     "output_type": "execute_result"
    }
   ],
   "source": [
    "incomplete_index = pd.DatetimeIndex(pd.DatetimeIndex(df_rentals[df_rentals.pickup_hub_id == 60].created_at).date)\n",
    "complete_index = pd.date_range(incomplete_index.min(),incomplete_index.max())\n",
    "complete_index"
   ]
  },
  {
   "cell_type": "markdown",
   "metadata": {},
   "source": [
    "The two following cells give a representation of the type of imputation we just implemented:"
   ]
  },
  {
   "cell_type": "code",
   "execution_count": 23,
   "metadata": {
    "scrolled": true
   },
   "outputs": [
    {
     "data": {
      "text/plain": [
       "2018-03-04    2\n",
       "2018-03-05    1\n",
       "2018-03-07    1\n",
       "2018-03-08    1\n",
       "2018-03-10    1\n",
       "2018-03-11    4\n",
       "2018-03-12    1\n",
       "2018-03-14    3\n",
       "2018-03-17    2\n",
       "2018-03-18    5\n",
       "Name: created_at, dtype: int64"
      ]
     },
     "execution_count": 23,
     "metadata": {},
     "output_type": "execute_result"
    }
   ],
   "source": [
    "df_rentals[df_rentals.pickup_hub_id == 60].created_at.dt.floor('d') \\\n",
    ".value_counts().sort_index().fillna(value=0).head(10)"
   ]
  },
  {
   "cell_type": "code",
   "execution_count": 24,
   "metadata": {},
   "outputs": [
    {
     "data": {
      "text/plain": [
       "2018-03-04    2.0\n",
       "2018-03-05    1.0\n",
       "2018-03-06    0.0\n",
       "2018-03-07    1.0\n",
       "2018-03-08    1.0\n",
       "2018-03-09    0.0\n",
       "2018-03-10    1.0\n",
       "2018-03-11    4.0\n",
       "2018-03-12    1.0\n",
       "2018-03-13    0.0\n",
       "Freq: D, Name: created_at, dtype: float64"
      ]
     },
     "execution_count": 24,
     "metadata": {},
     "output_type": "execute_result"
    }
   ],
   "source": [
    "\n",
    "df_rentals[df_rentals.pickup_hub_id == 60].created_at.dt.floor('d').value_counts().sort_index() \\\n",
    ".reindex(complete_index).fillna(value=0).head(10)"
   ]
  },
  {
   "cell_type": "markdown",
   "metadata": {},
   "source": [
    "We are now ready to plot..."
   ]
  },
  {
   "cell_type": "code",
   "execution_count": 34,
   "metadata": {},
   "outputs": [
    {
     "data": {
      "image/png": "[encoded data removed]",
      "text/plain": [
       "<Figure size 1152x576 with 1 Axes>"
      ]
     },
     "metadata": {},
     "output_type": "display_data"
    }
   ],
   "source": [
    "\n",
    "df_rentals[df_rentals.pickup_hub_id == 60].created_at.dt.floor('d').value_counts().sort_index(). \\\n",
    "reindex(complete_index).fillna(value=0).plot(style='-',label = 'High activity zone')\n",
    "df_rentals[df_rentals.pickup_hub_id ==2276].created_at.dt.floor('d').value_counts().sort_index(). \\\n",
    "reindex(complete_index).fillna(value=0).plot(style='-',color='b',label = 'Low activity zone')\n",
    "plt.title(\"Pick-up request in two different zones\")\n",
    "plt.legend()\n",
    "plt.ylabel(\"Number of Pick-ups\")\n",
    "plt.show()"
   ]
  },
  {
   "cell_type": "markdown",
   "metadata": {},
   "source": [
    "In the above plot we can observe a relevant increment in the observed demand especially during the summer (or close-to-summer) months. Other than leading us to explore some sort of seasonality this could also suggest that our data is actually generated from two distinct processes...\n",
    "\n",
    "In the following graph we try to give a sense of this dual nature by plotting the histogram of the pickup counts (in Hub #60) by roughly trying to isolate the central part of our time-series: the \"*nice weather*\" data."
   ]
  },
  {
   "cell_type": "code",
   "execution_count": null,
   "metadata": {},
   "outputs": [],
   "source": [
    "# As a rough separation the data is devided in 3 parts (using the \"official\" summer dates: 21 Jun - 23 Sep)\n",
    "summer_start_idx = int(np.where(df_rentals[df_rentals.pickup_hub_id == 60].created_at.dt.floor('d').value_counts()\n",
    "                    .sort_index().index == pd.to_datetime('2018-06-21'))[0])\n",
    "summer_end_idx = int(np.where(df_rentals[df_rentals.pickup_hub_id == 60].created_at.dt.floor('d').value_counts()\n",
    "                       .sort_index().index == pd.to_datetime('2018-9-23'))[0])"
   ]
  },
  {
   "cell_type": "code",
   "execution_count": null,
   "metadata": {},
   "outputs": [],
   "source": [
    "df_rentals[df_rentals.pickup_hub_id == 60].created_at.dt.floor('d').value_counts().sort_index() \\\n",
    ".reindex(complete_index).fillna(value=0)[:summer_start_idx].hist(bins=50)\n",
    "plt.title(\"Pre-Summer Pick-up count distribution in Hub #60 (Norreport Area)\")\n",
    "\n",
    "plt.ylabel(\"Frequency\")\n",
    "plt.xlabel(\"Pick-up count\")\n",
    "plt.xlim([0,18])\n",
    "plt.show()"
   ]
  },
  {
   "cell_type": "code",
   "execution_count": null,
   "metadata": {},
   "outputs": [],
   "source": [
    "df_rentals[df_rentals.pickup_hub_id == 60].created_at.dt.floor('d').value_counts().sort_index() \\\n",
    ".reindex(complete_index).fillna(value=0)[summer_start_idx:summer_end_idx].hist(bins=50)\n",
    "plt.title(\"Summer Pick-up count distribution in Hub #60 (Norreport Area)\")\n",
    "plt.ylabel(\"Frequency\")\n",
    "plt.xlabel(\"Pick-up count\")\n",
    "plt.xlim([0,18])\n",
    "plt.show()"
   ]
  },
  {
   "cell_type": "code",
   "execution_count": null,
   "metadata": {},
   "outputs": [],
   "source": [
    "df_rentals[df_rentals.pickup_hub_id == 60].created_at.dt.floor('d').value_counts().sort_index() \\\n",
    ".reindex(complete_index).fillna(value=0)[summer_end_idx:].hist(bins=50)\n",
    "plt.title(\"Post-Summer Pick-up count distribution in Hub #60 (Norreport Area)\")\n",
    "plt.ylabel(\"Frequency\")\n",
    "plt.xlabel(\"Pick-up count\")\n",
    "plt.xlim([0,18])\n",
    "plt.show()"
   ]
  },
  {
   "cell_type": "markdown",
   "metadata": {},
   "source": [
    "It is therefore reasonable to think that our model should try to extract information from these temporal indicators in our data.\n",
    "\n",
    "It is also important to stress the fact that these plots represent exclusively the pick-up rates for a single hub. We could have chosen to concentrate on the observation of origin-destination rentals (and so focus more on the demand of transportation from Hub A to Hub B rather than the pick-up demand in one hub)."
   ]
  },
  {
   "cell_type": "markdown",
   "metadata": {},
   "source": [
    "---------------------------"
   ]
  },
  {
   "cell_type": "markdown",
   "metadata": {},
   "source": [
    "## Hub availability"
   ]
  },
  {
   "cell_type": "markdown",
   "metadata": {},
   "source": [
    "In the specification of our demand prediction problem it is important to notice that the realizations of demand that we observe in every hub are actually *censored*. This basically means that our variable of interest (the demand) has as upper limit the current supply of bikes. For example, suppose that we have a capacity of 10 bikes in one hub, we will never be able to observe a demand of 15, but only a maximum of 10. This behaviour will lead to an observed demand which could be an underestimate of the *real* demand (and therefore to a biased predictor)\n",
    "\n",
    "An indicator of this censoring behaviour in our data could be observed in all those cases where the current availability of the hub reaches a value of 0. Obviously, a hub with no bikes available would not be able to satisfy any existing demand (and we would not be able therefore to observe any rentals).\n",
    "\n",
    "The following plot represents the **minimum value** of bike availability in Hub #60 aggregated to a daily level:"
   ]
  },
  {
   "cell_type": "markdown",
   "metadata": {},
   "source": [
    "(Again, the two following cells give a visual understanding of the preprocessing)"
   ]
  },
  {
   "cell_type": "code",
   "execution_count": null,
   "metadata": {},
   "outputs": [],
   "source": [
    "# Odered representation of Hub dataset\n",
    "df_hubav[df_hubav.hub_id == 60].sort_values(by='created_at').head(10)"
   ]
  },
  {
   "cell_type": "code",
   "execution_count": null,
   "metadata": {},
   "outputs": [],
   "source": [
    "# Minimum availability for each of the sample days\n",
    "df_hubav[df_hubav.hub_id == 60].groupby(pd.Grouper(key='created_at',freq='d')).min().bike_count_to.head(3)"
   ]
  },
  {
   "cell_type": "markdown",
   "metadata": {},
   "source": [
    "By inspecting the data, we notice that we have missing availability records for some days. It turns out (as one would expect) that this is due to an unchanged availability in the corresponding Hub. Therefore, in this case it makes complete sense to fill in the missing days with a \"*forward fill*\" method:"
   ]
  },
  {
   "cell_type": "code",
   "execution_count": null,
   "metadata": {},
   "outputs": [],
   "source": [
    "# Before fill\n",
    "df_hubav[df_hubav.hub_id == 60].groupby(pd.Grouper(key='created_at',freq='d')).min().bike_count_to.head(10)"
   ]
  },
  {
   "cell_type": "code",
   "execution_count": null,
   "metadata": {},
   "outputs": [],
   "source": [
    "# After fill\n",
    "df_hubav[df_hubav.hub_id == 60].groupby(pd.Grouper(key='created_at',freq='d')).min(). \\\n",
    "bike_count_to.fillna(method='ffill').head(10)"
   ]
  },
  {
   "cell_type": "markdown",
   "metadata": {},
   "source": [
    "We are now ready to analyse the plot:"
   ]
  },
  {
   "cell_type": "code",
   "execution_count": null,
   "metadata": {},
   "outputs": [],
   "source": [
    "df_hubav[df_hubav.hub_id == 60].groupby(pd.Grouper(key='created_at',freq='d')).min().bike_count_to.fillna(method='ffill').plot()\n",
    "plt.title(\"Minimum Daily Bike Availability in Hub #60 (Norreport Area)\")\n",
    "plt.ylabel(\"Minimum availability\")\n",
    "plt.xlabel(\"Day\")\n",
    "plt.show()"
   ]
  },
  {
   "cell_type": "markdown",
   "metadata": {},
   "source": [
    "The plot clearly shows that (in this specific Hub) it is very common for the bike availability to go to 0 during the day (approximately 69% of the days)"
   ]
  },
  {
   "cell_type": "markdown",
   "metadata": {},
   "source": [
    "-----------------------"
   ]
  },
  {
   "cell_type": "markdown",
   "metadata": {},
   "source": [
    "## Searchlogs"
   ]
  },
  {
   "cell_type": "markdown",
   "metadata": {},
   "source": [
    "We have seen how our data naturally defines a difference between *observed* and *real* demand. In this perspective, the searchlog data could represent some kind of indicator of the real demand. This data, as we described above, represents the locations of the users in the moment they access the app. It is therefore reasonable to assume that most of the access logs will represent users actually looking for an available bike nearby... \n",
    "\n",
    "To give a visual representation of the searchlogs the following plot represents 1000 searchlogs of 09/03/2019:"
   ]
  },
  {
   "cell_type": "code",
   "execution_count": null,
   "metadata": {},
   "outputs": [],
   "source": [
    "df_searchlog['date'] = [d.date() for d in df_searchlog['timestamp']]\n",
    "df_search_plot = df_searchlog.where(df_searchlog.date == pd.to_datetime(\"09/03/2019\", format=\"%d/%m/%Y\").date()).dropna()"
   ]
  },
  {
   "cell_type": "code",
   "execution_count": null,
   "metadata": {
    "scrolled": false
   },
   "outputs": [],
   "source": [
    "m = folium.Map(location=initial_location,\n",
    "              zoom_start=13)\n",
    "\n",
    "locations = df_search_plot.iloc[:1000, :2]\n",
    "locationlist = locations.values.tolist()\n",
    "\n",
    "for point in range(0, len(locationlist)):\n",
    "    folium.CircleMarker(\n",
    "    location=locationlist[point],\n",
    "    radius=3,\n",
    "    popup='Searchlog_{}'.format(point),\n",
    "    color='#3186cc',\n",
    "    fill=True,\n",
    "    fill_color='#3186cc').add_to(m)\n",
    "    \n",
    "m"
   ]
  },
  {
   "cell_type": "code",
   "execution_count": null,
   "metadata": {},
   "outputs": [],
   "source": [
    "m.save('fig/hub_visualization.html')"
   ]
  },
  {
   "cell_type": "markdown",
   "metadata": {},
   "source": [
    "------------------"
   ]
  },
  {
   "cell_type": "markdown",
   "metadata": {},
   "source": [
    "## User-specific level"
   ]
  },
  {
   "cell_type": "markdown",
   "metadata": {},
   "source": [
    "Our data gives us valuable information on the rental patterns of single users. It could therefore be interesting to try and extrapolate patterns related to single individuals in our dataset. \n",
    "\n",
    "For example, in the following cells we first count how many rentals are recorded for every user (ordering from most active user to less active user). Then, for our plot, we select the most active user and analyse his origin-destination pattern."
   ]
  },
  {
   "cell_type": "code",
   "execution_count": null,
   "metadata": {},
   "outputs": [],
   "source": [
    "# Rental counts for every user\n",
    "rentals_by_user = df_rentals.groupby('user_id')['user_id'].count().sort_values(ascending=False)\n",
    "rentals_by_user.head(10)"
   ]
  },
  {
   "cell_type": "code",
   "execution_count": null,
   "metadata": {},
   "outputs": [],
   "source": [
    "# Trips for user 140961 (most active in our dataset)\n",
    "usr_140961 = df_rentals[df_rentals.user_id == 140961][['pickup_hub_id', 'dropoff_hub_id']].dropna()\n",
    "usr_140961.head(10)"
   ]
  },
  {
   "cell_type": "markdown",
   "metadata": {},
   "source": [
    "Let's also visualize the first 450 rentals on a map. In particular the blue markers represent the Pick-up locations, while the red markers represent the drop-off locations. \n",
    "\n",
    "Notice how: \n",
    "1. The area of Copenhagen is a pretty well defined subset of the entire city and \n",
    "2. The number of observable hubs is actually way less than 450 (this means that there is a high overlap between the plotted OD pairs - the user has several repetitive trips)."
   ]
  },
  {
   "cell_type": "code",
   "execution_count": null,
   "metadata": {},
   "outputs": [],
   "source": [
    "user_map = folium.Map(location=initial_location,\n",
    "              zoom_start=13)\n",
    "\n",
    "locations = usr_140961.iloc[:,:]\n",
    "locationlist = locations.values.tolist()\n",
    "\n",
    "for point in range(0, len(locationlist[:450])):\n",
    "    folium.CircleMarker(\n",
    "    location=[df_hubs[df_hubs.id == int(locationlist[point][0])]['latitude'].values[0],df_hubs[df_hubs.id == int(locationlist[point][0])]['longitude'].values[0]],\n",
    "    radius=3,\n",
    "    popup='Rental_{}'.format(point),\n",
    "    color='#3186cc',\n",
    "    fill=True,\n",
    "    fill_color='#3186cc').add_to(user_map)\n",
    "    \n",
    "    folium.CircleMarker(\n",
    "    location=[df_hubs[df_hubs.id == int(locationlist[point][1])]['latitude'].values[0],df_hubs[df_hubs.id == int(locationlist[point][1])]['longitude'].values[0]],\n",
    "    radius=3,\n",
    "    popup='Rental_{}'.format(point),\n",
    "    color='crimson',\n",
    "    fill=True,\n",
    "    fill_color='crimson').add_to(user_map)\n",
    "    \n",
    "user_map"
   ]
  }
 ],
 "metadata": {
  "kernelspec": {
   "display_name": "Python 3",
   "language": "python",
   "name": "python3"
  },
  "language_info": {
   "codemirror_mode": {
    "name": "ipython",
    "version": 3
   },
   "file_extension": ".py",
   "mimetype": "text/x-python",
   "name": "python",
   "nbconvert_exporter": "python",
   "pygments_lexer": "ipython3",
   "version": "3.7.4"
  }
 },
 "nbformat": 4,
 "nbformat_minor": 2
}
